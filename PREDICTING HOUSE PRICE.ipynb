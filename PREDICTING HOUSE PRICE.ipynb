{
 "cells": [
  {
   "cell_type": "markdown",
   "metadata": {},
   "source": [
    "# IMPORTING LIBRARIES"
   ]
  },
  {
   "cell_type": "code",
   "execution_count": 1,
   "metadata": {},
   "outputs": [],
   "source": [
    "# import sklearn librarys\n",
    "from sklearn.linear_model import LogisticRegression, Lasso, Ridge\n",
    "from sklearn.dummy import DummyRegressor\n",
    "from sklearn.svm import SVR\n",
    "from sklearn.ensemble import RandomForestRegressor,GradientBoostingRegressor,AdaBoostRegressor\n",
    "from sklearn.metrics import mean_squared_error,mean_absolute_error\n",
    "\n",
    "from sklearn.preprocessing import PolynomialFeatures\n",
    "from sklearn.metrics import recall_score,precision_score,confusion_matrix, classification_report\n",
    "\n",
    "from sklearn.model_selection import GridSearchCV\n",
    "\n",
    "from sklearn.preprocessing import  OneHotEncoder, MinMaxScaler\n",
    "from sklearn.compose import make_column_transformer\n",
    "from sklearn.feature_selection import SelectKBest,chi2\n",
    "\n",
    "from matplotlib import pyplot as plt\n",
    "\n",
    "from pandas_profiling import ProfileReport as profile\n",
    "\n",
    "import pandas as pd\n",
    "import numpy as np\n",
    "import os\n",
    "import seaborn as sns\n",
    "\n",
    "from sklearn.impute import SimpleImputer\n",
    "\n",
    "from sklearn.metrics import precision_recall_curve, roc_curve, auc\n",
    "\n",
    "from xgboost import XGBRegressor \n",
    "\n",
    "from sklearn.compose import make_column_transformer\n",
    "\n",
    "from sklearn.pipeline import make_pipeline"
   ]
  },
  {
   "cell_type": "markdown",
   "metadata": {},
   "source": [
    "# READING DATASET"
   ]
  },
  {
   "cell_type": "code",
   "execution_count": 2,
   "metadata": {},
   "outputs": [
    {
     "data": {
      "text/html": [
       "<div>\n",
       "<style scoped>\n",
       "    .dataframe tbody tr th:only-of-type {\n",
       "        vertical-align: middle;\n",
       "    }\n",
       "\n",
       "    .dataframe tbody tr th {\n",
       "        vertical-align: top;\n",
       "    }\n",
       "\n",
       "    .dataframe thead th {\n",
       "        text-align: right;\n",
       "    }\n",
       "</style>\n",
       "<table border=\"1\" class=\"dataframe\">\n",
       "  <thead>\n",
       "    <tr style=\"text-align: right;\">\n",
       "      <th></th>\n",
       "      <th>Id</th>\n",
       "      <th>MSSubClass</th>\n",
       "      <th>MSZoning</th>\n",
       "      <th>LotFrontage</th>\n",
       "      <th>LotArea</th>\n",
       "      <th>Street</th>\n",
       "      <th>Alley</th>\n",
       "      <th>LotShape</th>\n",
       "      <th>LandContour</th>\n",
       "      <th>Utilities</th>\n",
       "      <th>...</th>\n",
       "      <th>PoolArea</th>\n",
       "      <th>PoolQC</th>\n",
       "      <th>Fence</th>\n",
       "      <th>MiscFeature</th>\n",
       "      <th>MiscVal</th>\n",
       "      <th>MoSold</th>\n",
       "      <th>YrSold</th>\n",
       "      <th>SaleType</th>\n",
       "      <th>SaleCondition</th>\n",
       "      <th>SalePrice</th>\n",
       "    </tr>\n",
       "  </thead>\n",
       "  <tbody>\n",
       "    <tr>\n",
       "      <th>0</th>\n",
       "      <td>1</td>\n",
       "      <td>60</td>\n",
       "      <td>RL</td>\n",
       "      <td>65.0</td>\n",
       "      <td>8450</td>\n",
       "      <td>Pave</td>\n",
       "      <td>NaN</td>\n",
       "      <td>Reg</td>\n",
       "      <td>Lvl</td>\n",
       "      <td>AllPub</td>\n",
       "      <td>...</td>\n",
       "      <td>0</td>\n",
       "      <td>NaN</td>\n",
       "      <td>NaN</td>\n",
       "      <td>NaN</td>\n",
       "      <td>0</td>\n",
       "      <td>2</td>\n",
       "      <td>2008</td>\n",
       "      <td>WD</td>\n",
       "      <td>Normal</td>\n",
       "      <td>208500</td>\n",
       "    </tr>\n",
       "    <tr>\n",
       "      <th>1</th>\n",
       "      <td>2</td>\n",
       "      <td>20</td>\n",
       "      <td>RL</td>\n",
       "      <td>80.0</td>\n",
       "      <td>9600</td>\n",
       "      <td>Pave</td>\n",
       "      <td>NaN</td>\n",
       "      <td>Reg</td>\n",
       "      <td>Lvl</td>\n",
       "      <td>AllPub</td>\n",
       "      <td>...</td>\n",
       "      <td>0</td>\n",
       "      <td>NaN</td>\n",
       "      <td>NaN</td>\n",
       "      <td>NaN</td>\n",
       "      <td>0</td>\n",
       "      <td>5</td>\n",
       "      <td>2007</td>\n",
       "      <td>WD</td>\n",
       "      <td>Normal</td>\n",
       "      <td>181500</td>\n",
       "    </tr>\n",
       "    <tr>\n",
       "      <th>2</th>\n",
       "      <td>3</td>\n",
       "      <td>60</td>\n",
       "      <td>RL</td>\n",
       "      <td>68.0</td>\n",
       "      <td>11250</td>\n",
       "      <td>Pave</td>\n",
       "      <td>NaN</td>\n",
       "      <td>IR1</td>\n",
       "      <td>Lvl</td>\n",
       "      <td>AllPub</td>\n",
       "      <td>...</td>\n",
       "      <td>0</td>\n",
       "      <td>NaN</td>\n",
       "      <td>NaN</td>\n",
       "      <td>NaN</td>\n",
       "      <td>0</td>\n",
       "      <td>9</td>\n",
       "      <td>2008</td>\n",
       "      <td>WD</td>\n",
       "      <td>Normal</td>\n",
       "      <td>223500</td>\n",
       "    </tr>\n",
       "    <tr>\n",
       "      <th>3</th>\n",
       "      <td>4</td>\n",
       "      <td>70</td>\n",
       "      <td>RL</td>\n",
       "      <td>60.0</td>\n",
       "      <td>9550</td>\n",
       "      <td>Pave</td>\n",
       "      <td>NaN</td>\n",
       "      <td>IR1</td>\n",
       "      <td>Lvl</td>\n",
       "      <td>AllPub</td>\n",
       "      <td>...</td>\n",
       "      <td>0</td>\n",
       "      <td>NaN</td>\n",
       "      <td>NaN</td>\n",
       "      <td>NaN</td>\n",
       "      <td>0</td>\n",
       "      <td>2</td>\n",
       "      <td>2006</td>\n",
       "      <td>WD</td>\n",
       "      <td>Abnorml</td>\n",
       "      <td>140000</td>\n",
       "    </tr>\n",
       "    <tr>\n",
       "      <th>4</th>\n",
       "      <td>5</td>\n",
       "      <td>60</td>\n",
       "      <td>RL</td>\n",
       "      <td>84.0</td>\n",
       "      <td>14260</td>\n",
       "      <td>Pave</td>\n",
       "      <td>NaN</td>\n",
       "      <td>IR1</td>\n",
       "      <td>Lvl</td>\n",
       "      <td>AllPub</td>\n",
       "      <td>...</td>\n",
       "      <td>0</td>\n",
       "      <td>NaN</td>\n",
       "      <td>NaN</td>\n",
       "      <td>NaN</td>\n",
       "      <td>0</td>\n",
       "      <td>12</td>\n",
       "      <td>2008</td>\n",
       "      <td>WD</td>\n",
       "      <td>Normal</td>\n",
       "      <td>250000</td>\n",
       "    </tr>\n",
       "  </tbody>\n",
       "</table>\n",
       "<p>5 rows × 81 columns</p>\n",
       "</div>"
      ],
      "text/plain": [
       "   Id  MSSubClass MSZoning  LotFrontage  LotArea Street Alley LotShape  \\\n",
       "0   1          60       RL         65.0     8450   Pave   NaN      Reg   \n",
       "1   2          20       RL         80.0     9600   Pave   NaN      Reg   \n",
       "2   3          60       RL         68.0    11250   Pave   NaN      IR1   \n",
       "3   4          70       RL         60.0     9550   Pave   NaN      IR1   \n",
       "4   5          60       RL         84.0    14260   Pave   NaN      IR1   \n",
       "\n",
       "  LandContour Utilities  ... PoolArea PoolQC Fence MiscFeature MiscVal MoSold  \\\n",
       "0         Lvl    AllPub  ...        0    NaN   NaN         NaN       0      2   \n",
       "1         Lvl    AllPub  ...        0    NaN   NaN         NaN       0      5   \n",
       "2         Lvl    AllPub  ...        0    NaN   NaN         NaN       0      9   \n",
       "3         Lvl    AllPub  ...        0    NaN   NaN         NaN       0      2   \n",
       "4         Lvl    AllPub  ...        0    NaN   NaN         NaN       0     12   \n",
       "\n",
       "  YrSold  SaleType  SaleCondition  SalePrice  \n",
       "0   2008        WD         Normal     208500  \n",
       "1   2007        WD         Normal     181500  \n",
       "2   2008        WD         Normal     223500  \n",
       "3   2006        WD        Abnorml     140000  \n",
       "4   2008        WD         Normal     250000  \n",
       "\n",
       "[5 rows x 81 columns]"
      ]
     },
     "execution_count": 2,
     "metadata": {},
     "output_type": "execute_result"
    }
   ],
   "source": [
    "os.chdir(\"c:/Users/User/Documents/Github/housePricePrediction/\")\n",
    "df=pd.read_csv('house_train_data.csv')\n",
    "df.head()"
   ]
  },
  {
   "cell_type": "markdown",
   "metadata": {},
   "source": [
    "# DATA EXPLORATION - pandas profiling"
   ]
  },
  {
   "cell_type": "raw",
   "metadata": {},
   "source": [
    "Pandas profiling was used to do a comprehensive explorative analysis on the dataset. This was exported in an html format for \n",
    "detail analysis/studies. The insight gathered informed the steps below in the data cleaning"
   ]
  },
  {
   "cell_type": "code",
   "execution_count": 3,
   "metadata": {},
   "outputs": [],
   "source": [
    "# profile=df.profile_report(minimal=False,progress_bar=False, explorative=True, pool_size=0, samples=None,\n",
    "#                                 missing_diagrams=None, duplicates=None);\n",
    "# profile.to_file(\"output.html\")"
   ]
  },
  {
   "cell_type": "markdown",
   "metadata": {},
   "source": [
    "# HANDLING MISSING DATASET"
   ]
  },
  {
   "cell_type": "code",
   "execution_count": 4,
   "metadata": {},
   "outputs": [
    {
     "name": "stdout",
     "output_type": "stream",
     "text": [
      "PoolQC           0.995205\n",
      "MiscFeature      0.963014\n",
      "Alley            0.937671\n",
      "Fence            0.807534\n",
      "FireplaceQu      0.472603\n",
      "                   ...   \n",
      "CentralAir       0.000000\n",
      "SaleCondition    0.000000\n",
      "Heating          0.000000\n",
      "TotalBsmtSF      0.000000\n",
      "Id               0.000000\n",
      "Length: 81, dtype: float64\n"
     ]
    }
   ],
   "source": [
    "print(df.isnull().mean().sort_values(ascending=False))"
   ]
  },
  {
   "cell_type": "markdown",
   "metadata": {},
   "source": [
    " Droping columns with more than 40% missing dataset"
   ]
  },
  {
   "cell_type": "code",
   "execution_count": 5,
   "metadata": {},
   "outputs": [
    {
     "name": "stdout",
     "output_type": "stream",
     "text": [
      "LotFrontage      0.177397\n",
      "GarageType       0.055479\n",
      "GarageYrBlt      0.055479\n",
      "GarageCond       0.055479\n",
      "GarageQual       0.055479\n",
      "                   ...   \n",
      "CentralAir       0.000000\n",
      "HeatingQC        0.000000\n",
      "SaleCondition    0.000000\n",
      "TotalBsmtSF      0.000000\n",
      "MSSubClass       0.000000\n",
      "Length: 75, dtype: float64\n"
     ]
    }
   ],
   "source": [
    "df=df.loc[: ,  df.isnull().mean()<0.40]\n",
    "\n",
    "# Dropping the id columns because it has no predictive power\n",
    "df.drop(columns=['Id'] ,axis=1, inplace=True)\n",
    "\n",
    "print(df.isnull().mean().sort_values(ascending=False))"
   ]
  },
  {
   "cell_type": "code",
   "execution_count": 6,
   "metadata": {},
   "outputs": [],
   "source": [
    "numerical_columns=list(df.select_dtypes(include=['int64','float64']).columns)"
   ]
  },
  {
   "cell_type": "code",
   "execution_count": 7,
   "metadata": {},
   "outputs": [
    {
     "data": {
      "text/plain": [
       "MSSubClass       0\n",
       "LotFrontage      0\n",
       "LotArea          0\n",
       "OverallQual      0\n",
       "OverallCond      0\n",
       "                ..\n",
       "GarageQual       0\n",
       "GarageCond       0\n",
       "PavedDrive       0\n",
       "SaleType         0\n",
       "SaleCondition    0\n",
       "Length: 75, dtype: int64"
      ]
     },
     "execution_count": 7,
     "metadata": {},
     "output_type": "execute_result"
    }
   ],
   "source": [
    "imp_mean=SimpleImputer(missing_values=np.nan,strategy='mean')\n",
    "imp_frequent=SimpleImputer(missing_values=np.nan,strategy=\"most_frequent\")\n",
    "\n",
    "transformed_columns= make_column_transformer  (\n",
    "                                                ( imp_mean, list(df.select_dtypes(include=['int64','float64']).columns) ),\n",
    "                                                ( imp_frequent,list(df.select_dtypes(exclude=['int64','float64']).columns) ),\n",
    "                                                 remainder = 'passthrough'\n",
    "                                              )\n",
    "\n",
    "list_columns=list(df.select_dtypes(include=['int64','float64']).columns) + list(df.select_dtypes(exclude=['int64','float64']).columns)\n",
    "\n",
    "df=pd.DataFrame(transformed_columns.fit_transform(df), columns=list_columns)\n",
    "\n",
    "df[numerical_columns]=df.loc[:,numerical_columns].astype(float)\n",
    "df.isnull().sum()"
   ]
  },
  {
   "cell_type": "code",
   "execution_count": 8,
   "metadata": {},
   "outputs": [
    {
     "data": {
      "text/html": [
       "<div>\n",
       "<style scoped>\n",
       "    .dataframe tbody tr th:only-of-type {\n",
       "        vertical-align: middle;\n",
       "    }\n",
       "\n",
       "    .dataframe tbody tr th {\n",
       "        vertical-align: top;\n",
       "    }\n",
       "\n",
       "    .dataframe thead th {\n",
       "        text-align: right;\n",
       "    }\n",
       "</style>\n",
       "<table border=\"1\" class=\"dataframe\">\n",
       "  <thead>\n",
       "    <tr style=\"text-align: right;\">\n",
       "      <th></th>\n",
       "      <th>MSSubClass</th>\n",
       "      <th>LotFrontage</th>\n",
       "      <th>LotArea</th>\n",
       "      <th>OverallQual</th>\n",
       "      <th>OverallCond</th>\n",
       "      <th>YearBuilt</th>\n",
       "      <th>YearRemodAdd</th>\n",
       "      <th>MasVnrArea</th>\n",
       "      <th>BsmtFinSF1</th>\n",
       "      <th>BsmtFinSF2</th>\n",
       "      <th>...</th>\n",
       "      <th>Electrical</th>\n",
       "      <th>KitchenQual</th>\n",
       "      <th>Functional</th>\n",
       "      <th>GarageType</th>\n",
       "      <th>GarageFinish</th>\n",
       "      <th>GarageQual</th>\n",
       "      <th>GarageCond</th>\n",
       "      <th>PavedDrive</th>\n",
       "      <th>SaleType</th>\n",
       "      <th>SaleCondition</th>\n",
       "    </tr>\n",
       "  </thead>\n",
       "  <tbody>\n",
       "    <tr>\n",
       "      <th>0</th>\n",
       "      <td>60.0</td>\n",
       "      <td>65.0</td>\n",
       "      <td>8450.0</td>\n",
       "      <td>7.0</td>\n",
       "      <td>5.0</td>\n",
       "      <td>2003.0</td>\n",
       "      <td>2003.0</td>\n",
       "      <td>196.0</td>\n",
       "      <td>706.0</td>\n",
       "      <td>0.0</td>\n",
       "      <td>...</td>\n",
       "      <td>SBrkr</td>\n",
       "      <td>Gd</td>\n",
       "      <td>Typ</td>\n",
       "      <td>Attchd</td>\n",
       "      <td>RFn</td>\n",
       "      <td>TA</td>\n",
       "      <td>TA</td>\n",
       "      <td>Y</td>\n",
       "      <td>WD</td>\n",
       "      <td>Normal</td>\n",
       "    </tr>\n",
       "    <tr>\n",
       "      <th>1</th>\n",
       "      <td>20.0</td>\n",
       "      <td>80.0</td>\n",
       "      <td>9600.0</td>\n",
       "      <td>6.0</td>\n",
       "      <td>8.0</td>\n",
       "      <td>1976.0</td>\n",
       "      <td>1976.0</td>\n",
       "      <td>0.0</td>\n",
       "      <td>978.0</td>\n",
       "      <td>0.0</td>\n",
       "      <td>...</td>\n",
       "      <td>SBrkr</td>\n",
       "      <td>TA</td>\n",
       "      <td>Typ</td>\n",
       "      <td>Attchd</td>\n",
       "      <td>RFn</td>\n",
       "      <td>TA</td>\n",
       "      <td>TA</td>\n",
       "      <td>Y</td>\n",
       "      <td>WD</td>\n",
       "      <td>Normal</td>\n",
       "    </tr>\n",
       "    <tr>\n",
       "      <th>2</th>\n",
       "      <td>60.0</td>\n",
       "      <td>68.0</td>\n",
       "      <td>11250.0</td>\n",
       "      <td>7.0</td>\n",
       "      <td>5.0</td>\n",
       "      <td>2001.0</td>\n",
       "      <td>2002.0</td>\n",
       "      <td>162.0</td>\n",
       "      <td>486.0</td>\n",
       "      <td>0.0</td>\n",
       "      <td>...</td>\n",
       "      <td>SBrkr</td>\n",
       "      <td>Gd</td>\n",
       "      <td>Typ</td>\n",
       "      <td>Attchd</td>\n",
       "      <td>RFn</td>\n",
       "      <td>TA</td>\n",
       "      <td>TA</td>\n",
       "      <td>Y</td>\n",
       "      <td>WD</td>\n",
       "      <td>Normal</td>\n",
       "    </tr>\n",
       "  </tbody>\n",
       "</table>\n",
       "<p>3 rows × 75 columns</p>\n",
       "</div>"
      ],
      "text/plain": [
       "   MSSubClass  LotFrontage  LotArea  OverallQual  OverallCond  YearBuilt  \\\n",
       "0        60.0         65.0   8450.0          7.0          5.0     2003.0   \n",
       "1        20.0         80.0   9600.0          6.0          8.0     1976.0   \n",
       "2        60.0         68.0  11250.0          7.0          5.0     2001.0   \n",
       "\n",
       "   YearRemodAdd  MasVnrArea  BsmtFinSF1  BsmtFinSF2  ...  Electrical  \\\n",
       "0        2003.0       196.0       706.0         0.0  ...       SBrkr   \n",
       "1        1976.0         0.0       978.0         0.0  ...       SBrkr   \n",
       "2        2002.0       162.0       486.0         0.0  ...       SBrkr   \n",
       "\n",
       "   KitchenQual  Functional  GarageType  GarageFinish  GarageQual  GarageCond  \\\n",
       "0           Gd         Typ      Attchd           RFn          TA          TA   \n",
       "1           TA         Typ      Attchd           RFn          TA          TA   \n",
       "2           Gd         Typ      Attchd           RFn          TA          TA   \n",
       "\n",
       "   PavedDrive  SaleType  SaleCondition  \n",
       "0           Y        WD         Normal  \n",
       "1           Y        WD         Normal  \n",
       "2           Y        WD         Normal  \n",
       "\n",
       "[3 rows x 75 columns]"
      ]
     },
     "execution_count": 8,
     "metadata": {},
     "output_type": "execute_result"
    }
   ],
   "source": [
    "df.head(3)"
   ]
  },
  {
   "cell_type": "markdown",
   "metadata": {},
   "source": [
    "# CORRELATION ANALYSIS"
   ]
  },
  {
   "cell_type": "code",
   "execution_count": 9,
   "metadata": {
    "scrolled": true
   },
   "outputs": [
    {
     "data": {
      "text/plain": [
       "SalePrice       1.000000\n",
       "OverallQual     0.790982\n",
       "GrLivArea       0.708624\n",
       "GarageCars      0.640409\n",
       "GarageArea      0.623431\n",
       "TotalBsmtSF     0.613581\n",
       "1stFlrSF        0.605852\n",
       "FullBath        0.560664\n",
       "TotRmsAbvGrd    0.533723\n",
       "YearBuilt       0.522897\n",
       "YearRemodAdd    0.507101\n",
       "MasVnrArea      0.475241\n",
       "GarageYrBlt     0.470177\n",
       "Fireplaces      0.466929\n",
       "BsmtFinSF1      0.386420\n",
       "Name: SalePrice, dtype: float64"
      ]
     },
     "execution_count": 9,
     "metadata": {},
     "output_type": "execute_result"
    }
   ],
   "source": [
    "# Features and their correlation with the target variable\n",
    "ans=df.iloc[:,:].corr()['SalePrice'].abs()     # using the absolute values\n",
    "ans.sort_values(ascending=False).head(15)"
   ]
  },
  {
   "cell_type": "code",
   "execution_count": 10,
   "metadata": {},
   "outputs": [
    {
     "data": {
      "text/plain": [
       "SalePrice     SalePrice       1.000000\n",
       "GarageCars    GarageArea      0.882475\n",
       "TotRmsAbvGrd  GrLivArea       0.825489\n",
       "TotalBsmtSF   1stFlrSF        0.819530\n",
       "SalePrice     OverallQual     0.790982\n",
       "YearBuilt     GarageYrBlt     0.780555\n",
       "SalePrice     GrLivArea       0.708624\n",
       "2ndFlrSF      GrLivArea       0.687501\n",
       "TotRmsAbvGrd  BedroomAbvGr    0.676620\n",
       "BsmtFullBath  BsmtFinSF1      0.649212\n",
       "GarageCars    SalePrice       0.640409\n",
       "GrLivArea     FullBath        0.630012\n",
       "SalePrice     GarageArea      0.623431\n",
       "GarageYrBlt   YearRemodAdd    0.618130\n",
       "2ndFlrSF      TotRmsAbvGrd    0.616423\n",
       "TotalBsmtSF   SalePrice       0.613581\n",
       "HalfBath      2ndFlrSF        0.609707\n",
       "SalePrice     1stFlrSF        0.605852\n",
       "OverallQual   GarageCars      0.600671\n",
       "              GrLivArea       0.593007\n",
       "YearRemodAdd  YearBuilt       0.592855\n",
       "YearBuilt     OverallQual     0.572323\n",
       "1stFlrSF      GrLivArea       0.566024\n",
       "GarageArea    OverallQual     0.562022\n",
       "FullBath      SalePrice       0.560664\n",
       "TotRmsAbvGrd  FullBath        0.554784\n",
       "OverallQual   YearRemodAdd    0.550684\n",
       "              FullBath        0.550600\n",
       "GarageCars    YearBuilt       0.537850\n",
       "TotalBsmtSF   OverallQual     0.537808\n",
       "TotRmsAbvGrd  SalePrice       0.533723\n",
       "YearBuilt     SalePrice       0.522897\n",
       "TotalBsmtSF   BsmtFinSF1      0.522396\n",
       "BedroomAbvGr  GrLivArea       0.521270\n",
       "OverallQual   GarageYrBlt     0.518018\n",
       "SalePrice     YearRemodAdd    0.507101\n",
       "2ndFlrSF      BedroomAbvGr    0.502901\n",
       "BsmtUnfSF     BsmtFinSF1      0.495251\n",
       "GarageArea    1stFlrSF        0.489782\n",
       "TotalBsmtSF   GarageArea      0.486665\n",
       "GarageCars    GarageYrBlt     0.482534\n",
       "YearBuilt     GarageArea      0.478954\n",
       "GarageYrBlt   GarageArea      0.476498\n",
       "1stFlrSF      OverallQual     0.476224\n",
       "MasVnrArea    SalePrice       0.475241\n",
       "SalePrice     GarageYrBlt     0.470177\n",
       "GarageCars    FullBath        0.469672\n",
       "GarageArea    GrLivArea       0.468997\n",
       "dtype: float64"
      ]
     },
     "execution_count": 10,
     "metadata": {},
     "output_type": "execute_result"
    }
   ],
   "source": [
    "ans=df.corr().abs().unstack().sort_values(ascending=False).drop_duplicates()\n",
    "ans.head(48)"
   ]
  },
  {
   "cell_type": "markdown",
   "metadata": {},
   "source": [
    "Dropping features with correlation >=60%"
   ]
  },
  {
   "cell_type": "code",
   "execution_count": 11,
   "metadata": {},
   "outputs": [],
   "source": [
    "# GrLivArea was left out because not all houses were story buildings\n",
    "df.drop(columns=['GarageArea','GarageYrBlt','TotalBsmtSF','2ndFlrSF','BedroomAbvGr','BsmtFinSF1',\n",
    "                'FullBath','HalfBath'], inplace=True)"
   ]
  },
  {
   "cell_type": "markdown",
   "metadata": {},
   "source": [
    "# TRANSFORMING FEATURES - dates"
   ]
  },
  {
   "cell_type": "code",
   "execution_count": 12,
   "metadata": {},
   "outputs": [
    {
     "data": {
      "text/html": [
       "<div>\n",
       "<style scoped>\n",
       "    .dataframe tbody tr th:only-of-type {\n",
       "        vertical-align: middle;\n",
       "    }\n",
       "\n",
       "    .dataframe tbody tr th {\n",
       "        vertical-align: top;\n",
       "    }\n",
       "\n",
       "    .dataframe thead th {\n",
       "        text-align: right;\n",
       "    }\n",
       "</style>\n",
       "<table border=\"1\" class=\"dataframe\">\n",
       "  <thead>\n",
       "    <tr style=\"text-align: right;\">\n",
       "      <th></th>\n",
       "      <th>MSSubClass</th>\n",
       "      <th>LotFrontage</th>\n",
       "      <th>LotArea</th>\n",
       "      <th>OverallQual</th>\n",
       "      <th>OverallCond</th>\n",
       "      <th>YearBuilt</th>\n",
       "      <th>YearRemodAdd</th>\n",
       "      <th>MasVnrArea</th>\n",
       "      <th>BsmtFinSF2</th>\n",
       "      <th>BsmtUnfSF</th>\n",
       "      <th>...</th>\n",
       "      <th>Electrical</th>\n",
       "      <th>KitchenQual</th>\n",
       "      <th>Functional</th>\n",
       "      <th>GarageType</th>\n",
       "      <th>GarageFinish</th>\n",
       "      <th>GarageQual</th>\n",
       "      <th>GarageCond</th>\n",
       "      <th>PavedDrive</th>\n",
       "      <th>SaleType</th>\n",
       "      <th>SaleCondition</th>\n",
       "    </tr>\n",
       "  </thead>\n",
       "  <tbody>\n",
       "    <tr>\n",
       "      <th>0</th>\n",
       "      <td>60.0</td>\n",
       "      <td>65.0</td>\n",
       "      <td>8450.0</td>\n",
       "      <td>7.0</td>\n",
       "      <td>5.0</td>\n",
       "      <td>17.0</td>\n",
       "      <td>17.0</td>\n",
       "      <td>196.0</td>\n",
       "      <td>0.0</td>\n",
       "      <td>150.0</td>\n",
       "      <td>...</td>\n",
       "      <td>SBrkr</td>\n",
       "      <td>Gd</td>\n",
       "      <td>Typ</td>\n",
       "      <td>Attchd</td>\n",
       "      <td>RFn</td>\n",
       "      <td>TA</td>\n",
       "      <td>TA</td>\n",
       "      <td>Y</td>\n",
       "      <td>WD</td>\n",
       "      <td>Normal</td>\n",
       "    </tr>\n",
       "    <tr>\n",
       "      <th>1</th>\n",
       "      <td>20.0</td>\n",
       "      <td>80.0</td>\n",
       "      <td>9600.0</td>\n",
       "      <td>6.0</td>\n",
       "      <td>8.0</td>\n",
       "      <td>44.0</td>\n",
       "      <td>44.0</td>\n",
       "      <td>0.0</td>\n",
       "      <td>0.0</td>\n",
       "      <td>284.0</td>\n",
       "      <td>...</td>\n",
       "      <td>SBrkr</td>\n",
       "      <td>TA</td>\n",
       "      <td>Typ</td>\n",
       "      <td>Attchd</td>\n",
       "      <td>RFn</td>\n",
       "      <td>TA</td>\n",
       "      <td>TA</td>\n",
       "      <td>Y</td>\n",
       "      <td>WD</td>\n",
       "      <td>Normal</td>\n",
       "    </tr>\n",
       "    <tr>\n",
       "      <th>2</th>\n",
       "      <td>60.0</td>\n",
       "      <td>68.0</td>\n",
       "      <td>11250.0</td>\n",
       "      <td>7.0</td>\n",
       "      <td>5.0</td>\n",
       "      <td>19.0</td>\n",
       "      <td>18.0</td>\n",
       "      <td>162.0</td>\n",
       "      <td>0.0</td>\n",
       "      <td>434.0</td>\n",
       "      <td>...</td>\n",
       "      <td>SBrkr</td>\n",
       "      <td>Gd</td>\n",
       "      <td>Typ</td>\n",
       "      <td>Attchd</td>\n",
       "      <td>RFn</td>\n",
       "      <td>TA</td>\n",
       "      <td>TA</td>\n",
       "      <td>Y</td>\n",
       "      <td>WD</td>\n",
       "      <td>Normal</td>\n",
       "    </tr>\n",
       "  </tbody>\n",
       "</table>\n",
       "<p>3 rows × 67 columns</p>\n",
       "</div>"
      ],
      "text/plain": [
       "   MSSubClass  LotFrontage  LotArea  OverallQual  OverallCond  YearBuilt  \\\n",
       "0        60.0         65.0   8450.0          7.0          5.0       17.0   \n",
       "1        20.0         80.0   9600.0          6.0          8.0       44.0   \n",
       "2        60.0         68.0  11250.0          7.0          5.0       19.0   \n",
       "\n",
       "   YearRemodAdd  MasVnrArea  BsmtFinSF2  BsmtUnfSF  ...  Electrical  \\\n",
       "0          17.0       196.0         0.0      150.0  ...       SBrkr   \n",
       "1          44.0         0.0         0.0      284.0  ...       SBrkr   \n",
       "2          18.0       162.0         0.0      434.0  ...       SBrkr   \n",
       "\n",
       "   KitchenQual  Functional  GarageType  GarageFinish  GarageQual  GarageCond  \\\n",
       "0           Gd         Typ      Attchd           RFn          TA          TA   \n",
       "1           TA         Typ      Attchd           RFn          TA          TA   \n",
       "2           Gd         Typ      Attchd           RFn          TA          TA   \n",
       "\n",
       "   PavedDrive  SaleType  SaleCondition  \n",
       "0           Y        WD         Normal  \n",
       "1           Y        WD         Normal  \n",
       "2           Y        WD         Normal  \n",
       "\n",
       "[3 rows x 67 columns]"
      ]
     },
     "execution_count": 12,
     "metadata": {},
     "output_type": "execute_result"
    }
   ],
   "source": [
    "df['YearRemodAdd']=2020-df['YearRemodAdd']\n",
    "df['YearBuilt']=2020-df['YearBuilt']\n",
    "df.head(3)"
   ]
  },
  {
   "cell_type": "markdown",
   "metadata": {},
   "source": [
    "# SPLITTING DATA INTO TARGET VARIABLE AND FEATURE SETS"
   ]
  },
  {
   "cell_type": "code",
   "execution_count": 13,
   "metadata": {},
   "outputs": [],
   "source": [
    "y=df.loc[: , ['SalePrice']]\n",
    "X=df.drop(columns=['SalePrice'])"
   ]
  },
  {
   "cell_type": "code",
   "execution_count": 14,
   "metadata": {},
   "outputs": [],
   "source": [
    "X_CAT=X.select_dtypes(exclude=['int64','float64'])\n",
    "X_NUM=X.select_dtypes(include=['int64','float64'])"
   ]
  },
  {
   "cell_type": "code",
   "execution_count": 15,
   "metadata": {},
   "outputs": [],
   "source": [
    "scaler=MinMaxScaler()\n",
    "ohe=OneHotEncoder(handle_unknown='error',sparse=False, dtype='float32' , drop='first')\n",
    "X_CAT_TRANSFORM=pd.DataFrame(ohe.fit_transform(X_CAT))\n",
    "X_CAT_TRANSFORM.columns=ohe.get_feature_names(X_CAT.columns)\n",
    "\n",
    "X_NUM_TRANSFORM_SCALED=pd.DataFrame(scaler.fit_transform(X_NUM),columns=X_NUM.columns)\n",
    "\n",
    "#  concatenating to create the feature set\n",
    "X=pd.concat(\n",
    "           [X_NUM_TRANSFORM_SCALED.reset_index(drop=True), \n",
    "            X_CAT_TRANSFORM.reset_index(drop=True)],\n",
    "            axis=1\n",
    "           )"
   ]
  },
  {
   "cell_type": "code",
   "execution_count": 16,
   "metadata": {},
   "outputs": [
    {
     "data": {
      "text/html": [
       "<div>\n",
       "<style scoped>\n",
       "    .dataframe tbody tr th:only-of-type {\n",
       "        vertical-align: middle;\n",
       "    }\n",
       "\n",
       "    .dataframe tbody tr th {\n",
       "        vertical-align: top;\n",
       "    }\n",
       "\n",
       "    .dataframe thead th {\n",
       "        text-align: right;\n",
       "    }\n",
       "</style>\n",
       "<table border=\"1\" class=\"dataframe\">\n",
       "  <thead>\n",
       "    <tr style=\"text-align: right;\">\n",
       "      <th></th>\n",
       "      <th>MSSubClass</th>\n",
       "      <th>LotFrontage</th>\n",
       "      <th>LotArea</th>\n",
       "      <th>OverallQual</th>\n",
       "      <th>OverallCond</th>\n",
       "      <th>YearBuilt</th>\n",
       "      <th>YearRemodAdd</th>\n",
       "      <th>MasVnrArea</th>\n",
       "      <th>BsmtFinSF2</th>\n",
       "      <th>BsmtUnfSF</th>\n",
       "      <th>...</th>\n",
       "      <th>SaleType_ConLI</th>\n",
       "      <th>SaleType_ConLw</th>\n",
       "      <th>SaleType_New</th>\n",
       "      <th>SaleType_Oth</th>\n",
       "      <th>SaleType_WD</th>\n",
       "      <th>SaleCondition_AdjLand</th>\n",
       "      <th>SaleCondition_Alloca</th>\n",
       "      <th>SaleCondition_Family</th>\n",
       "      <th>SaleCondition_Normal</th>\n",
       "      <th>SaleCondition_Partial</th>\n",
       "    </tr>\n",
       "  </thead>\n",
       "  <tbody>\n",
       "    <tr>\n",
       "      <th>0</th>\n",
       "      <td>0.235294</td>\n",
       "      <td>0.150685</td>\n",
       "      <td>0.033420</td>\n",
       "      <td>0.666667</td>\n",
       "      <td>0.500</td>\n",
       "      <td>0.050725</td>\n",
       "      <td>0.116667</td>\n",
       "      <td>0.12250</td>\n",
       "      <td>0.0</td>\n",
       "      <td>0.064212</td>\n",
       "      <td>...</td>\n",
       "      <td>0.0</td>\n",
       "      <td>0.0</td>\n",
       "      <td>0.0</td>\n",
       "      <td>0.0</td>\n",
       "      <td>1.0</td>\n",
       "      <td>0.0</td>\n",
       "      <td>0.0</td>\n",
       "      <td>0.0</td>\n",
       "      <td>1.0</td>\n",
       "      <td>0.0</td>\n",
       "    </tr>\n",
       "    <tr>\n",
       "      <th>1</th>\n",
       "      <td>0.000000</td>\n",
       "      <td>0.202055</td>\n",
       "      <td>0.038795</td>\n",
       "      <td>0.555556</td>\n",
       "      <td>0.875</td>\n",
       "      <td>0.246377</td>\n",
       "      <td>0.566667</td>\n",
       "      <td>0.00000</td>\n",
       "      <td>0.0</td>\n",
       "      <td>0.121575</td>\n",
       "      <td>...</td>\n",
       "      <td>0.0</td>\n",
       "      <td>0.0</td>\n",
       "      <td>0.0</td>\n",
       "      <td>0.0</td>\n",
       "      <td>1.0</td>\n",
       "      <td>0.0</td>\n",
       "      <td>0.0</td>\n",
       "      <td>0.0</td>\n",
       "      <td>1.0</td>\n",
       "      <td>0.0</td>\n",
       "    </tr>\n",
       "    <tr>\n",
       "      <th>2</th>\n",
       "      <td>0.235294</td>\n",
       "      <td>0.160959</td>\n",
       "      <td>0.046507</td>\n",
       "      <td>0.666667</td>\n",
       "      <td>0.500</td>\n",
       "      <td>0.065217</td>\n",
       "      <td>0.133333</td>\n",
       "      <td>0.10125</td>\n",
       "      <td>0.0</td>\n",
       "      <td>0.185788</td>\n",
       "      <td>...</td>\n",
       "      <td>0.0</td>\n",
       "      <td>0.0</td>\n",
       "      <td>0.0</td>\n",
       "      <td>0.0</td>\n",
       "      <td>1.0</td>\n",
       "      <td>0.0</td>\n",
       "      <td>0.0</td>\n",
       "      <td>0.0</td>\n",
       "      <td>1.0</td>\n",
       "      <td>0.0</td>\n",
       "    </tr>\n",
       "    <tr>\n",
       "      <th>3</th>\n",
       "      <td>0.294118</td>\n",
       "      <td>0.133562</td>\n",
       "      <td>0.038561</td>\n",
       "      <td>0.666667</td>\n",
       "      <td>0.500</td>\n",
       "      <td>0.688406</td>\n",
       "      <td>0.666667</td>\n",
       "      <td>0.00000</td>\n",
       "      <td>0.0</td>\n",
       "      <td>0.231164</td>\n",
       "      <td>...</td>\n",
       "      <td>0.0</td>\n",
       "      <td>0.0</td>\n",
       "      <td>0.0</td>\n",
       "      <td>0.0</td>\n",
       "      <td>1.0</td>\n",
       "      <td>0.0</td>\n",
       "      <td>0.0</td>\n",
       "      <td>0.0</td>\n",
       "      <td>0.0</td>\n",
       "      <td>0.0</td>\n",
       "    </tr>\n",
       "    <tr>\n",
       "      <th>4</th>\n",
       "      <td>0.235294</td>\n",
       "      <td>0.215753</td>\n",
       "      <td>0.060576</td>\n",
       "      <td>0.777778</td>\n",
       "      <td>0.500</td>\n",
       "      <td>0.072464</td>\n",
       "      <td>0.166667</td>\n",
       "      <td>0.21875</td>\n",
       "      <td>0.0</td>\n",
       "      <td>0.209760</td>\n",
       "      <td>...</td>\n",
       "      <td>0.0</td>\n",
       "      <td>0.0</td>\n",
       "      <td>0.0</td>\n",
       "      <td>0.0</td>\n",
       "      <td>1.0</td>\n",
       "      <td>0.0</td>\n",
       "      <td>0.0</td>\n",
       "      <td>0.0</td>\n",
       "      <td>1.0</td>\n",
       "      <td>0.0</td>\n",
       "    </tr>\n",
       "  </tbody>\n",
       "</table>\n",
       "<p>5 rows × 224 columns</p>\n",
       "</div>"
      ],
      "text/plain": [
       "   MSSubClass  LotFrontage   LotArea  OverallQual  OverallCond  YearBuilt  \\\n",
       "0    0.235294     0.150685  0.033420     0.666667        0.500   0.050725   \n",
       "1    0.000000     0.202055  0.038795     0.555556        0.875   0.246377   \n",
       "2    0.235294     0.160959  0.046507     0.666667        0.500   0.065217   \n",
       "3    0.294118     0.133562  0.038561     0.666667        0.500   0.688406   \n",
       "4    0.235294     0.215753  0.060576     0.777778        0.500   0.072464   \n",
       "\n",
       "   YearRemodAdd  MasVnrArea  BsmtFinSF2  BsmtUnfSF  ...  SaleType_ConLI  \\\n",
       "0      0.116667     0.12250         0.0   0.064212  ...             0.0   \n",
       "1      0.566667     0.00000         0.0   0.121575  ...             0.0   \n",
       "2      0.133333     0.10125         0.0   0.185788  ...             0.0   \n",
       "3      0.666667     0.00000         0.0   0.231164  ...             0.0   \n",
       "4      0.166667     0.21875         0.0   0.209760  ...             0.0   \n",
       "\n",
       "   SaleType_ConLw  SaleType_New  SaleType_Oth  SaleType_WD  \\\n",
       "0             0.0           0.0           0.0          1.0   \n",
       "1             0.0           0.0           0.0          1.0   \n",
       "2             0.0           0.0           0.0          1.0   \n",
       "3             0.0           0.0           0.0          1.0   \n",
       "4             0.0           0.0           0.0          1.0   \n",
       "\n",
       "   SaleCondition_AdjLand  SaleCondition_Alloca  SaleCondition_Family  \\\n",
       "0                    0.0                   0.0                   0.0   \n",
       "1                    0.0                   0.0                   0.0   \n",
       "2                    0.0                   0.0                   0.0   \n",
       "3                    0.0                   0.0                   0.0   \n",
       "4                    0.0                   0.0                   0.0   \n",
       "\n",
       "   SaleCondition_Normal  SaleCondition_Partial  \n",
       "0                   1.0                    0.0  \n",
       "1                   1.0                    0.0  \n",
       "2                   1.0                    0.0  \n",
       "3                   0.0                    0.0  \n",
       "4                   1.0                    0.0  \n",
       "\n",
       "[5 rows x 224 columns]"
      ]
     },
     "execution_count": 16,
     "metadata": {},
     "output_type": "execute_result"
    }
   ],
   "source": [
    "X.head()"
   ]
  },
  {
   "cell_type": "markdown",
   "metadata": {},
   "source": [
    "# SHAPE OF CLEANED DATASET TO BE USED FOR THE MODEL TRAINING"
   ]
  },
  {
   "cell_type": "code",
   "execution_count": 17,
   "metadata": {},
   "outputs": [
    {
     "data": {
      "text/plain": [
       "(1460, 224)"
      ]
     },
     "execution_count": 17,
     "metadata": {},
     "output_type": "execute_result"
    }
   ],
   "source": [
    "X.shape"
   ]
  },
  {
   "cell_type": "markdown",
   "metadata": {},
   "source": [
    "# SPLITTING DATASET INTO TRAIN AND TEST SETS"
   ]
  },
  {
   "cell_type": "code",
   "execution_count": 18,
   "metadata": {},
   "outputs": [],
   "source": [
    "# splitting Dataset into train set and test set ( ratio 80 : 20 )\n",
    "from sklearn.model_selection import train_test_split\n",
    "X_train,X_test,y_train,y_test=train_test_split(X,y, random_state=15,test_size=0.20)"
   ]
  },
  {
   "cell_type": "markdown",
   "metadata": {},
   "source": [
    "# FEATURE IMPORTANCE SELECTION"
   ]
  },
  {
   "cell_type": "code",
   "execution_count": 19,
   "metadata": {},
   "outputs": [
    {
     "name": "stderr",
     "output_type": "stream",
     "text": [
      "C:\\Users\\User\\Anaconda3\\lib\\site-packages\\sklearn\\model_selection\\_search.py:765: DataConversionWarning: A column-vector y was passed when a 1d array was expected. Please change the shape of y to (n_samples,), for example using ravel().\n",
      "  self.best_estimator_.fit(X, y, **fit_params)\n"
     ]
    },
    {
     "name": "stdout",
     "output_type": "stream",
     "text": [
      "\n",
      " R2_score \t 0.9685293441718893 \n",
      "\n",
      "Wall time: 4.76 s\n"
     ]
    },
    {
     "data": {
      "text/html": [
       "<div>\n",
       "<style scoped>\n",
       "    .dataframe tbody tr th:only-of-type {\n",
       "        vertical-align: middle;\n",
       "    }\n",
       "\n",
       "    .dataframe tbody tr th {\n",
       "        vertical-align: top;\n",
       "    }\n",
       "\n",
       "    .dataframe thead th {\n",
       "        text-align: right;\n",
       "    }\n",
       "</style>\n",
       "<table border=\"1\" class=\"dataframe\">\n",
       "  <thead>\n",
       "    <tr style=\"text-align: right;\">\n",
       "      <th></th>\n",
       "      <th>mean_fit_time</th>\n",
       "      <th>std_fit_time</th>\n",
       "      <th>mean_score_time</th>\n",
       "      <th>std_score_time</th>\n",
       "      <th>param_max_features</th>\n",
       "      <th>param_n_estimators</th>\n",
       "      <th>param_random_state</th>\n",
       "      <th>params</th>\n",
       "      <th>split0_test_score</th>\n",
       "      <th>split1_test_score</th>\n",
       "      <th>mean_test_score</th>\n",
       "      <th>std_test_score</th>\n",
       "      <th>rank_test_score</th>\n",
       "    </tr>\n",
       "  </thead>\n",
       "  <tbody>\n",
       "    <tr>\n",
       "      <th>0</th>\n",
       "      <td>0.417893</td>\n",
       "      <td>0.017138</td>\n",
       "      <td>0.016124</td>\n",
       "      <td>0.004024</td>\n",
       "      <td>auto</td>\n",
       "      <td>20</td>\n",
       "      <td>0</td>\n",
       "      <td>{'max_features': 'auto', 'n_estimators': 20, '...</td>\n",
       "      <td>0.7188</td>\n",
       "      <td>0.803187</td>\n",
       "      <td>0.760994</td>\n",
       "      <td>0.042193</td>\n",
       "      <td>1</td>\n",
       "    </tr>\n",
       "  </tbody>\n",
       "</table>\n",
       "</div>"
      ],
      "text/plain": [
       "   mean_fit_time  std_fit_time  mean_score_time  std_score_time  \\\n",
       "0       0.417893      0.017138         0.016124        0.004024   \n",
       "\n",
       "  param_max_features param_n_estimators param_random_state  \\\n",
       "0               auto                 20                  0   \n",
       "\n",
       "                                              params  split0_test_score  \\\n",
       "0  {'max_features': 'auto', 'n_estimators': 20, '...             0.7188   \n",
       "\n",
       "   split1_test_score  mean_test_score  std_test_score  rank_test_score  \n",
       "0           0.803187         0.760994        0.042193                1  "
      ]
     },
     "execution_count": 19,
     "metadata": {},
     "output_type": "execute_result"
    }
   ],
   "source": [
    "%%time\n",
    "parameter_random_forest=dict({ 'max_features': ['auto'] ,\n",
    "                               'random_state':[0] ,\n",
    "                               'n_estimators':[20]\n",
    "                             })\n",
    "\n",
    "grid_random_forest_feat=GridSearchCV (   RandomForestRegressor(), \n",
    "                                         cv=2, \n",
    "                                         param_grid=parameter_random_forest,\n",
    "                                         scoring='r2', \n",
    "                                         n_jobs=-1\n",
    "                                      )\n",
    "\n",
    "\n",
    "grid_random_forest_feat.fit(X_train,y_train)\n",
    "\n",
    "y_predicted_random=grid_random_forest_feat.predict(X_train)            # using the gridsearchcv object for prediction\n",
    "\n",
    "print('\\n R2_score \\t', grid_random_forest_feat.score(X_train , y_train),'\\n')\n",
    "pd.DataFrame(grid_random_forest_feat.cv_results_)                      # tabulating the outcome of gridsearchcv object"
   ]
  },
  {
   "cell_type": "code",
   "execution_count": 20,
   "metadata": {},
   "outputs": [
    {
     "name": "stdout",
     "output_type": "stream",
     "text": [
      "List of features according to their importance in descending order\n"
     ]
    },
    {
     "data": {
      "text/html": [
       "<div>\n",
       "<style scoped>\n",
       "    .dataframe tbody tr th:only-of-type {\n",
       "        vertical-align: middle;\n",
       "    }\n",
       "\n",
       "    .dataframe tbody tr th {\n",
       "        vertical-align: top;\n",
       "    }\n",
       "\n",
       "    .dataframe thead th {\n",
       "        text-align: right;\n",
       "    }\n",
       "</style>\n",
       "<table border=\"1\" class=\"dataframe\">\n",
       "  <thead>\n",
       "    <tr style=\"text-align: right;\">\n",
       "      <th></th>\n",
       "      <th>features</th>\n",
       "    </tr>\n",
       "  </thead>\n",
       "  <tbody>\n",
       "    <tr>\n",
       "      <th>OverallQual</th>\n",
       "      <td>0.541367</td>\n",
       "    </tr>\n",
       "    <tr>\n",
       "      <th>GrLivArea</th>\n",
       "      <td>0.126809</td>\n",
       "    </tr>\n",
       "    <tr>\n",
       "      <th>1stFlrSF</th>\n",
       "      <td>0.101802</td>\n",
       "    </tr>\n",
       "    <tr>\n",
       "      <th>GarageCars</th>\n",
       "      <td>0.027479</td>\n",
       "    </tr>\n",
       "    <tr>\n",
       "      <th>LotArea</th>\n",
       "      <td>0.018954</td>\n",
       "    </tr>\n",
       "    <tr>\n",
       "      <th>MasVnrArea</th>\n",
       "      <td>0.015033</td>\n",
       "    </tr>\n",
       "    <tr>\n",
       "      <th>YearBuilt</th>\n",
       "      <td>0.014424</td>\n",
       "    </tr>\n",
       "    <tr>\n",
       "      <th>YearRemodAdd</th>\n",
       "      <td>0.013406</td>\n",
       "    </tr>\n",
       "    <tr>\n",
       "      <th>LotFrontage</th>\n",
       "      <td>0.009614</td>\n",
       "    </tr>\n",
       "    <tr>\n",
       "      <th>BsmtUnfSF</th>\n",
       "      <td>0.008581</td>\n",
       "    </tr>\n",
       "    <tr>\n",
       "      <th>TotRmsAbvGrd</th>\n",
       "      <td>0.007937</td>\n",
       "    </tr>\n",
       "    <tr>\n",
       "      <th>MoSold</th>\n",
       "      <td>0.007204</td>\n",
       "    </tr>\n",
       "    <tr>\n",
       "      <th>Fireplaces</th>\n",
       "      <td>0.006059</td>\n",
       "    </tr>\n",
       "    <tr>\n",
       "      <th>WoodDeckSF</th>\n",
       "      <td>0.005959</td>\n",
       "    </tr>\n",
       "    <tr>\n",
       "      <th>OpenPorchSF</th>\n",
       "      <td>0.005529</td>\n",
       "    </tr>\n",
       "    <tr>\n",
       "      <th>CentralAir_Y</th>\n",
       "      <td>0.004737</td>\n",
       "    </tr>\n",
       "    <tr>\n",
       "      <th>OverallCond</th>\n",
       "      <td>0.004631</td>\n",
       "    </tr>\n",
       "    <tr>\n",
       "      <th>BsmtFullBath</th>\n",
       "      <td>0.004115</td>\n",
       "    </tr>\n",
       "  </tbody>\n",
       "</table>\n",
       "</div>"
      ],
      "text/plain": [
       "              features\n",
       "OverallQual   0.541367\n",
       "GrLivArea     0.126809\n",
       "1stFlrSF      0.101802\n",
       "GarageCars    0.027479\n",
       "LotArea       0.018954\n",
       "MasVnrArea    0.015033\n",
       "YearBuilt     0.014424\n",
       "YearRemodAdd  0.013406\n",
       "LotFrontage   0.009614\n",
       "BsmtUnfSF     0.008581\n",
       "TotRmsAbvGrd  0.007937\n",
       "MoSold        0.007204\n",
       "Fireplaces    0.006059\n",
       "WoodDeckSF    0.005959\n",
       "OpenPorchSF   0.005529\n",
       "CentralAir_Y  0.004737\n",
       "OverallCond   0.004631\n",
       "BsmtFullBath  0.004115"
      ]
     },
     "execution_count": 20,
     "metadata": {},
     "output_type": "execute_result"
    }
   ],
   "source": [
    "clf_rand_forest=grid_random_forest_feat.best_estimator_  # passing the instance of best search\n",
    "feat_importance=pd.DataFrame(clf_rand_forest.feature_importances_).sort_values(by=0,ascending=False)\n",
    "\n",
    "\n",
    "feats = {} # a dict to hold feature_name: feature_importance\n",
    "for feature, importance in zip(X_train.columns,clf_rand_forest.feature_importances_):\n",
    "    feats[feature] = importance #add the name/value pair \n",
    "\n",
    "ans=pd.DataFrame(feats,index=np.arange(len(feats)))\n",
    "ans=(ans.T)\n",
    "ans=ans.sort_values(by=0,ascending=False)\n",
    "feat_importance=pd.DataFrame(ans.loc[:,0])\n",
    "feat_importance.columns=['features']\n",
    "print('List of features according to their importance in descending order')\n",
    "feat_importance.head(18)"
   ]
  },
  {
   "cell_type": "markdown",
   "metadata": {},
   "source": [
    "# FEATURE IMPORTANCE RANKING  - GRAPHICAL REPRESENTATION"
   ]
  },
  {
   "cell_type": "markdown",
   "metadata": {},
   "source": [
    "Following is the code snippet to plot the n most important features of a random forest model."
   ]
  },
  {
   "cell_type": "code",
   "execution_count": 21,
   "metadata": {},
   "outputs": [
    {
     "data": {
      "image/png": "[encoded data removed]",
      "text/plain": [
       "<Figure size 432x576 with 1 Axes>"
      ]
     },
     "metadata": {
      "needs_background": "light"
     },
     "output_type": "display_data"
    }
   ],
   "source": [
    "%matplotlib inline\n",
    "\n",
    "feat_importance=feat_importance.iloc[0:20,:]\n",
    "# X_train=X_train.loc[:,feat_importance.index]    #  X_train 30 most important features\n",
    "\n",
    "# plot the 50 most important features \n",
    "plt.figure(figsize=(6,8))\n",
    "plt.barh(y=feat_importance.index,width=feat_importance['features']);\n",
    "plt.title(' Featureimportance - TOP 20 , fontsize=16')\n",
    "plt.box(None)"
   ]
  },
  {
   "cell_type": "markdown",
   "metadata": {},
   "source": [
    "# DISTRIBUTION OF THE TARGET VARIABLE - Price of house y"
   ]
  },
  {
   "cell_type": "code",
   "execution_count": 22,
   "metadata": {},
   "outputs": [
    {
     "data": {
      "text/plain": [
       "<matplotlib.axes._subplots.AxesSubplot at 0x1a403396108>"
      ]
     },
     "execution_count": 22,
     "metadata": {},
     "output_type": "execute_result"
    },
    {
     "data": {
      "image/png": "[encoded data removed]",
      "text/plain": [
       "<Figure size 432x288 with 1 Axes>"
      ]
     },
     "metadata": {
      "needs_background": "light"
     },
     "output_type": "display_data"
    }
   ],
   "source": [
    "sns.distplot(y, bins=None, hist=True, kde=True, rug=False, fit=None, hist_kws=None)"
   ]
  },
  {
   "cell_type": "code",
   "execution_count": 23,
   "metadata": {},
   "outputs": [
    {
     "data": {
      "text/plain": [
       "<matplotlib.axes._subplots.AxesSubplot at 0x1a4034c8308>"
      ]
     },
     "execution_count": 23,
     "metadata": {},
     "output_type": "execute_result"
    },
    {
     "data": {
      "image/png": "[encoded data removed]",
      "text/plain": [
       "<Figure size 432x288 with 1 Axes>"
      ]
     },
     "metadata": {
      "needs_background": "light"
     },
     "output_type": "display_data"
    }
   ],
   "source": [
    "sns.scatterplot(data=y)"
   ]
  },
  {
   "cell_type": "markdown",
   "metadata": {},
   "source": [
    "# COMPARING VARIOUS MACHINE LEARNING MODELS"
   ]
  },
  {
   "cell_type": "markdown",
   "metadata": {},
   "source": [
    "# LASSO REGRESSION"
   ]
  },
  {
   "cell_type": "code",
   "execution_count": 24,
   "metadata": {
    "scrolled": true
   },
   "outputs": [
    {
     "name": "stdout",
     "output_type": "stream",
     "text": [
      "R-squared score (training): 0.912\n",
      "R-squared score (test): 0.873\n",
      "\n",
      "Test RMSE \t: 28288.90929367308\n",
      "Wall time: 6.61 s\n"
     ]
    }
   ],
   "source": [
    "%%time\n",
    "\n",
    "parameter_Lasso=            dict({ \n",
    "                                            'alpha':np.arange(1,50),\n",
    "                                            'random_state':[0],               \n",
    "                                          })\n",
    "\n",
    "grid_Lasso=GridSearchCV (    \n",
    "                                 Lasso(), \n",
    "                                 cv=2, \n",
    "                                 param_grid=parameter_Lasso,\n",
    "                                 scoring= 'r2',\n",
    "                                 n_jobs= -1\n",
    "                                )\n",
    "\n",
    "grid_Lasso.fit(X_train,y_train)\n",
    "\n",
    "print('R-squared score (training): {:.3f}'.format(grid_Lasso.score(X_train, y_train)))\n",
    "print('R-squared score (test): {:.3f}\\n'.format(grid_Lasso.score(X_test, y_test)))\n",
    "\n",
    "y_test_predicted_Lasso=grid_Lasso.predict(X_test)     # using the gridsearchcv object for prediction\n",
    "print('Test RMSE \\t:',np.sqrt(mean_squared_error( y_test, y_test_predicted_Lasso)))\n",
    "\n",
    "# pd.DataFrame(grid_Lasso.cv_results_)       # tabulating the outcome of gridsearchcv object"
   ]
  },
  {
   "cell_type": "markdown",
   "metadata": {},
   "source": [
    "# SUPPORT VECTOR REGRESSOR - SVR"
   ]
  },
  {
   "cell_type": "code",
   "execution_count": 25,
   "metadata": {
    "scrolled": true
   },
   "outputs": [
    {
     "name": "stderr",
     "output_type": "stream",
     "text": [
      "C:\\Users\\User\\Anaconda3\\lib\\site-packages\\sklearn\\utils\\validation.py:73: DataConversionWarning: A column-vector y was passed when a 1d array was expected. Please change the shape of y to (n_samples, ), for example using ravel().\n",
      "  return f(**kwargs)\n"
     ]
    },
    {
     "name": "stdout",
     "output_type": "stream",
     "text": [
      "R-squared score (training): 0.163\n",
      "R-squared score (test): 0.190\n",
      "\n",
      "Test RMSE \t: 71572.30295589732\n",
      "Wall time: 44 s\n"
     ]
    }
   ],
   "source": [
    "%%time\n",
    "\n",
    "parameter_SVR=            dict({ \n",
    "                                            'degree':[2,3,4],   \n",
    "                                            'gamma': ['scale','auto'],\n",
    "                                            'kernel':['linear', 'poly', 'rbf', 'sigmoid'],\n",
    "                                             'C' : [0.01,0.1,1,2,3,5,10]\n",
    "                                          })\n",
    "\n",
    "grid_SVR=GridSearchCV (    \n",
    "                                 SVR(), \n",
    "                                 cv=2, \n",
    "                                 param_grid=parameter_SVR,\n",
    "                                 scoring= 'r2',\n",
    "                                 n_jobs= -1 \n",
    "                                )\n",
    "\n",
    "grid_SVR.fit(X_train,y_train)\n",
    "\n",
    "print('R-squared score (training): {:.3f}'.format(grid_SVR.score(X_train, y_train)))\n",
    "print('R-squared score (test): {:.3f}\\n'.format(grid_SVR.score(X_test, y_test)))\n",
    "\n",
    "y_test_predicted_svr=grid_SVR.predict(X_test)     # using the gridsearchcv object for prediction\n",
    "print('Test RMSE \\t:',np.sqrt(mean_squared_error( y_test, y_test_predicted_svr)))\n",
    "\n",
    "# pd.DataFrame(grid_SVR.cv_results_)       # tabulating the outcome of gridsearchcv object"
   ]
  },
  {
   "cell_type": "markdown",
   "metadata": {},
   "source": [
    "# RANDOM FOREST REGRESSOR"
   ]
  },
  {
   "cell_type": "code",
   "execution_count": 26,
   "metadata": {},
   "outputs": [
    {
     "name": "stderr",
     "output_type": "stream",
     "text": [
      "C:\\Users\\User\\Anaconda3\\lib\\site-packages\\sklearn\\model_selection\\_validation.py:531: DataConversionWarning: A column-vector y was passed when a 1d array was expected. Please change the shape of y to (n_samples,), for example using ravel().\n",
      "  estimator.fit(X_train, y_train, **fit_params)\n",
      "C:\\Users\\User\\Anaconda3\\lib\\site-packages\\sklearn\\model_selection\\_validation.py:531: DataConversionWarning: A column-vector y was passed when a 1d array was expected. Please change the shape of y to (n_samples,), for example using ravel().\n",
      "  estimator.fit(X_train, y_train, **fit_params)\n",
      "C:\\Users\\User\\Anaconda3\\lib\\site-packages\\sklearn\\model_selection\\_validation.py:531: DataConversionWarning: A column-vector y was passed when a 1d array was expected. Please change the shape of y to (n_samples,), for example using ravel().\n",
      "  estimator.fit(X_train, y_train, **fit_params)\n",
      "C:\\Users\\User\\Anaconda3\\lib\\site-packages\\sklearn\\model_selection\\_validation.py:531: DataConversionWarning: A column-vector y was passed when a 1d array was expected. Please change the shape of y to (n_samples,), for example using ravel().\n",
      "  estimator.fit(X_train, y_train, **fit_params)\n",
      "C:\\Users\\User\\Anaconda3\\lib\\site-packages\\sklearn\\model_selection\\_validation.py:531: DataConversionWarning: A column-vector y was passed when a 1d array was expected. Please change the shape of y to (n_samples,), for example using ravel().\n",
      "  estimator.fit(X_train, y_train, **fit_params)\n",
      "C:\\Users\\User\\Anaconda3\\lib\\site-packages\\sklearn\\model_selection\\_validation.py:531: DataConversionWarning: A column-vector y was passed when a 1d array was expected. Please change the shape of y to (n_samples,), for example using ravel().\n",
      "  estimator.fit(X_train, y_train, **fit_params)\n",
      "C:\\Users\\User\\Anaconda3\\lib\\site-packages\\sklearn\\model_selection\\_validation.py:531: DataConversionWarning: A column-vector y was passed when a 1d array was expected. Please change the shape of y to (n_samples,), for example using ravel().\n",
      "  estimator.fit(X_train, y_train, **fit_params)\n",
      "C:\\Users\\User\\Anaconda3\\lib\\site-packages\\sklearn\\model_selection\\_validation.py:531: DataConversionWarning: A column-vector y was passed when a 1d array was expected. Please change the shape of y to (n_samples,), for example using ravel().\n",
      "  estimator.fit(X_train, y_train, **fit_params)\n",
      "C:\\Users\\User\\Anaconda3\\lib\\site-packages\\sklearn\\model_selection\\_validation.py:531: DataConversionWarning: A column-vector y was passed when a 1d array was expected. Please change the shape of y to (n_samples,), for example using ravel().\n",
      "  estimator.fit(X_train, y_train, **fit_params)\n",
      "C:\\Users\\User\\Anaconda3\\lib\\site-packages\\sklearn\\model_selection\\_validation.py:531: DataConversionWarning: A column-vector y was passed when a 1d array was expected. Please change the shape of y to (n_samples,), for example using ravel().\n",
      "  estimator.fit(X_train, y_train, **fit_params)\n",
      "C:\\Users\\User\\Anaconda3\\lib\\site-packages\\sklearn\\model_selection\\_validation.py:531: DataConversionWarning: A column-vector y was passed when a 1d array was expected. Please change the shape of y to (n_samples,), for example using ravel().\n",
      "  estimator.fit(X_train, y_train, **fit_params)\n",
      "C:\\Users\\User\\Anaconda3\\lib\\site-packages\\sklearn\\model_selection\\_validation.py:531: DataConversionWarning: A column-vector y was passed when a 1d array was expected. Please change the shape of y to (n_samples,), for example using ravel().\n",
      "  estimator.fit(X_train, y_train, **fit_params)\n",
      "C:\\Users\\User\\Anaconda3\\lib\\site-packages\\sklearn\\model_selection\\_search.py:765: DataConversionWarning: A column-vector y was passed when a 1d array was expected. Please change the shape of y to (n_samples,), for example using ravel().\n",
      "  self.best_estimator_.fit(X, y, **fit_params)\n"
     ]
    },
    {
     "name": "stdout",
     "output_type": "stream",
     "text": [
      "R-squared score (training): 0.976\n",
      "R-squared score (test): 0.884\n",
      "\n",
      "Test RMSE \t: 27112.126890017636\n",
      "Wall time: 44.5 s\n"
     ]
    }
   ],
   "source": [
    "%%time\n",
    "\n",
    "parameter_random_forest=            dict({ \n",
    "                                            'n_estimators':[100,150,200,300,400,500],\n",
    "                                            'criterion': ['mse'],\n",
    "                                            'max_features': ['auto'],\n",
    "                                            'bootstrap': [True],\n",
    "                                            'oob_score': [True],\n",
    "                                            'n_jobs' : [-1],\n",
    "                                            'random_state':[0],\n",
    "                                            'warm_start':[False],                \n",
    "                                          })\n",
    "\n",
    "\n",
    "grid_random_forest=GridSearchCV (    \n",
    "                                 RandomForestRegressor(), \n",
    "                                 cv=2, \n",
    "                                 param_grid=parameter_random_forest,\n",
    "                                 scoring= 'r2'\n",
    "                                )\n",
    "\n",
    "grid_random_forest.fit(X_train,y_train)\n",
    "\n",
    "print('R-squared score (training): {:.3f}'.format(grid_random_forest.score(X_train, y_train)))\n",
    "print('R-squared score (test): {:.3f}\\n'.format(grid_random_forest.score(X_test, y_test)))\n",
    "\n",
    "y_test_predicted_forest=grid_random_forest.predict(X_test)\n",
    "print('Test RMSE \\t:',np.sqrt(mean_squared_error(y_test, y_test_predicted_forest)))\n",
    "\n",
    "y_predicted=grid_random_forest.predict(X_train)     # using the gridsearchcv object for prediction\n",
    "# pd.DataFrame(grid_random_forest.cv_results_)       # tabulating the outcome of gridsearchcv object"
   ]
  },
  {
   "cell_type": "code",
   "execution_count": 27,
   "metadata": {},
   "outputs": [
    {
     "data": {
      "text/html": [
       "<div>\n",
       "<style scoped>\n",
       "    .dataframe tbody tr th:only-of-type {\n",
       "        vertical-align: middle;\n",
       "    }\n",
       "\n",
       "    .dataframe tbody tr th {\n",
       "        vertical-align: top;\n",
       "    }\n",
       "\n",
       "    .dataframe thead th {\n",
       "        text-align: right;\n",
       "    }\n",
       "</style>\n",
       "<table border=\"1\" class=\"dataframe\">\n",
       "  <thead>\n",
       "    <tr style=\"text-align: right;\">\n",
       "      <th></th>\n",
       "      <th>SalePrice</th>\n",
       "      <th>predicted</th>\n",
       "      <th>Difference</th>\n",
       "    </tr>\n",
       "  </thead>\n",
       "  <tbody>\n",
       "    <tr>\n",
       "      <th>0</th>\n",
       "      <td>228500.0</td>\n",
       "      <td>260268.130</td>\n",
       "      <td>-31768.130</td>\n",
       "    </tr>\n",
       "    <tr>\n",
       "      <th>1</th>\n",
       "      <td>119500.0</td>\n",
       "      <td>125283.280</td>\n",
       "      <td>-5783.280</td>\n",
       "    </tr>\n",
       "    <tr>\n",
       "      <th>2</th>\n",
       "      <td>141000.0</td>\n",
       "      <td>137345.500</td>\n",
       "      <td>3654.500</td>\n",
       "    </tr>\n",
       "    <tr>\n",
       "      <th>3</th>\n",
       "      <td>109000.0</td>\n",
       "      <td>134245.350</td>\n",
       "      <td>-25245.350</td>\n",
       "    </tr>\n",
       "    <tr>\n",
       "      <th>4</th>\n",
       "      <td>233170.0</td>\n",
       "      <td>225601.955</td>\n",
       "      <td>7568.045</td>\n",
       "    </tr>\n",
       "    <tr>\n",
       "      <th>5</th>\n",
       "      <td>187000.0</td>\n",
       "      <td>184175.725</td>\n",
       "      <td>2824.275</td>\n",
       "    </tr>\n",
       "    <tr>\n",
       "      <th>6</th>\n",
       "      <td>174900.0</td>\n",
       "      <td>152048.685</td>\n",
       "      <td>22851.315</td>\n",
       "    </tr>\n",
       "    <tr>\n",
       "      <th>7</th>\n",
       "      <td>122500.0</td>\n",
       "      <td>134185.400</td>\n",
       "      <td>-11685.400</td>\n",
       "    </tr>\n",
       "    <tr>\n",
       "      <th>8</th>\n",
       "      <td>82500.0</td>\n",
       "      <td>183243.500</td>\n",
       "      <td>-100743.500</td>\n",
       "    </tr>\n",
       "    <tr>\n",
       "      <th>9</th>\n",
       "      <td>220000.0</td>\n",
       "      <td>228422.040</td>\n",
       "      <td>-8422.040</td>\n",
       "    </tr>\n",
       "  </tbody>\n",
       "</table>\n",
       "</div>"
      ],
      "text/plain": [
       "   SalePrice   predicted  Difference\n",
       "0   228500.0  260268.130  -31768.130\n",
       "1   119500.0  125283.280   -5783.280\n",
       "2   141000.0  137345.500    3654.500\n",
       "3   109000.0  134245.350  -25245.350\n",
       "4   233170.0  225601.955    7568.045\n",
       "5   187000.0  184175.725    2824.275\n",
       "6   174900.0  152048.685   22851.315\n",
       "7   122500.0  134185.400  -11685.400\n",
       "8    82500.0  183243.500 -100743.500\n",
       "9   220000.0  228422.040   -8422.040"
      ]
     },
     "execution_count": 27,
     "metadata": {},
     "output_type": "execute_result"
    }
   ],
   "source": [
    "predicted=pd.DataFrame(y_test_predicted_forest,columns=['predicted'])\n",
    "actual=pd.DataFrame(y_test.astype('float64'))\n",
    "com=pd.concat(\n",
    "           [actual.reset_index(drop=True), \n",
    "            predicted.reset_index(drop=True)],\n",
    "            axis=1\n",
    "           )\n",
    "com['Difference']=(com['SalePrice']-com['predicted'])\n",
    "\n",
    "com.head(10)"
   ]
  },
  {
   "cell_type": "markdown",
   "metadata": {},
   "source": [
    "# ADA BOOST REGRESSOR"
   ]
  },
  {
   "cell_type": "code",
   "execution_count": 28,
   "metadata": {},
   "outputs": [
    {
     "name": "stderr",
     "output_type": "stream",
     "text": [
      "C:\\Users\\User\\Anaconda3\\lib\\site-packages\\sklearn\\utils\\validation.py:73: DataConversionWarning: A column-vector y was passed when a 1d array was expected. Please change the shape of y to (n_samples, ), for example using ravel().\n",
      "  return f(**kwargs)\n"
     ]
    },
    {
     "name": "stdout",
     "output_type": "stream",
     "text": [
      "R-squared score (training): 0.872\n",
      "R-squared score (test): 0.833\n",
      "\n",
      "Test RMSE \t: 32521.245245209557\n",
      "Wall time: 1min 10s\n"
     ]
    }
   ],
   "source": [
    "%%time\n",
    "\n",
    "parameter_AdaBoost=            dict({ \n",
    "                                            'n_estimators':[100,200,300],\n",
    "                                            'random_state':[0],    \n",
    "                                            'learning_rate': [0.001,0.01,0.1],\n",
    "                                            'loss': ['linear','square','exponential']\n",
    "                                          })\n",
    "\n",
    "grid_AdaBoost=GridSearchCV (    \n",
    "                                 AdaBoostRegressor(), \n",
    "                                 cv=2, \n",
    "                                 param_grid=parameter_AdaBoost,\n",
    "                                 scoring= 'r2',\n",
    "                                 n_jobs= -1 \n",
    "                                )\n",
    "\n",
    "grid_AdaBoost.fit(X_train,y_train)\n",
    "\n",
    "print('R-squared score (training): {:.3f}'.format(grid_AdaBoost.score(X_train, y_train)))\n",
    "print('R-squared score (test): {:.3f}\\n'.format(grid_AdaBoost.score(X_test, y_test)))\n",
    "\n",
    "y_test_predicted_AdaBoost=grid_AdaBoost.predict(X_test)      # using the gridsearchcv object for prediction\n",
    "print('Test RMSE \\t:',np.sqrt(mean_squared_error( y_test, y_test_predicted_AdaBoost)))\n",
    "\n",
    "# pd.DataFrame(grid_AdaBoost.cv_results_)       # tabulating the outcome of gridsearchcv object"
   ]
  },
  {
   "cell_type": "markdown",
   "metadata": {},
   "source": [
    "# GRADIENT BOOSTING REGRESSOR"
   ]
  },
  {
   "cell_type": "code",
   "execution_count": 29,
   "metadata": {
    "scrolled": false
   },
   "outputs": [
    {
     "name": "stderr",
     "output_type": "stream",
     "text": [
      "C:\\Users\\User\\Anaconda3\\lib\\site-packages\\sklearn\\utils\\validation.py:73: DataConversionWarning: A column-vector y was passed when a 1d array was expected. Please change the shape of y to (n_samples, ), for example using ravel().\n",
      "  return f(**kwargs)\n"
     ]
    },
    {
     "name": "stdout",
     "output_type": "stream",
     "text": [
      "R-squared score (training): 0.982\n",
      "R-squared score (test): 0.914\n",
      "\n",
      "Mean Square Error \t: 23264.04997209329\n",
      "Wall time: 22.6 s\n"
     ]
    }
   ],
   "source": [
    "%%time\n",
    "\n",
    "parameter_grid_GBR=            dict({ \n",
    "                                            'n_estimators':[100,200,300],\n",
    "                                            'criterion': ['friedman_mse'],\n",
    "                                            'max_features': ['auto'],\n",
    "                                            'random_state':[0],    \n",
    "                                            'subsample': [0.85,1.0],\n",
    "                                            'learning_rate': [0.001,0.01,0.1,]\n",
    "                                          })\n",
    "\n",
    "\n",
    "grid_GBR=GridSearchCV (    \n",
    "                                 GradientBoostingRegressor(), \n",
    "                                 cv=2, \n",
    "                                 param_grid=parameter_grid_GBR,\n",
    "                                 scoring= 'r2',\n",
    "                                 n_jobs= -1\n",
    "                                )\n",
    "\n",
    "grid_GBR.fit(X_train,y_train)\n",
    "\n",
    "print('R-squared score (training): {:.3f}'.format(grid_GBR.score(X_train, y_train)))\n",
    "print('R-squared score (test): {:.3f}\\n'.format(grid_GBR.score(X_test, y_test)))\n",
    "\n",
    "y_test_predicted_GBR=grid_GBR.predict(X_test)\n",
    "print('Mean Square Error \\t:',np.sqrt(mean_squared_error(y_test, y_test_predicted_GBR)))\n",
    "\n",
    "# pd.DataFrame(grid_GBR.cv_results_)       # tabulating the outcome of gridsearchcv object"
   ]
  },
  {
   "cell_type": "markdown",
   "metadata": {},
   "source": [
    "# XGBOOSTING REGRESSOR"
   ]
  },
  {
   "cell_type": "code",
   "execution_count": 30,
   "metadata": {},
   "outputs": [
    {
     "name": "stdout",
     "output_type": "stream",
     "text": [
      "R-squared score (training): 0.974\n",
      "R-squared score (test): 0.917\n",
      "\n",
      "Test RMSE \t: 22924.707055810806\n",
      "Wall time: 41min 15s\n"
     ]
    }
   ],
   "source": [
    "%%time\n",
    "parameter_XGBoost=            dict({ \n",
    "                                    'objective':['reg:squarederror'],\n",
    "                                    'max_depth':[3,4,5,8,10],\n",
    "                                    'learning_rate' : [0.05,0.01,0.1],\n",
    "                                    'n_estimators':[100,200,300],\n",
    "                                    'gamma':[0,1,2,3],\n",
    "                                    'subsample': [0.9],\n",
    "                                    'colsample_bytree': [1],\n",
    "                                    'reg_alpha' : [0,1,2,3,5,7,10],\n",
    "                                    'scale_pos_weight':[1],\n",
    "                                    'random_state':[0],\n",
    "                                  })\n",
    "\n",
    "grid_XGBoost=GridSearchCV (    \n",
    "                                 XGBRegressor(), \n",
    "                                 cv=2, \n",
    "                                 param_grid=parameter_XGBoost,\n",
    "                                 scoring= 'r2',\n",
    "                                 n_jobs= -1 \n",
    "                                )\n",
    "\n",
    "grid_XGBoost.fit(X_train,y_train)\n",
    "\n",
    "print('R-squared score (training): {:.3f}'.format(grid_XGBoost.score(X_train, y_train)))\n",
    "print('R-squared score (test): {:.3f}\\n'.format(grid_XGBoost.score(X_test, y_test)))\n",
    "\n",
    "y_test_predicted_XGBoost=grid_XGBoost.predict(X_test)     # using the gridsearchcv object for prediction\n",
    "print('Test RMSE \\t:',np.sqrt(mean_squared_error( y_test, y_test_predicted_XGBoost)))\n",
    "\n",
    "df_XGBoost=pd.DataFrame(grid_XGBoost.cv_results_)       # tabulating the outcome of gridsearchcv object"
   ]
  },
  {
   "cell_type": "code",
   "execution_count": 31,
   "metadata": {},
   "outputs": [
    {
     "data": {
      "text/html": [
       "<div>\n",
       "<style scoped>\n",
       "    .dataframe tbody tr th:only-of-type {\n",
       "        vertical-align: middle;\n",
       "    }\n",
       "\n",
       "    .dataframe tbody tr th {\n",
       "        vertical-align: top;\n",
       "    }\n",
       "\n",
       "    .dataframe thead th {\n",
       "        text-align: right;\n",
       "    }\n",
       "</style>\n",
       "<table border=\"1\" class=\"dataframe\">\n",
       "  <thead>\n",
       "    <tr style=\"text-align: right;\">\n",
       "      <th></th>\n",
       "      <th>mean_fit_time</th>\n",
       "      <th>std_fit_time</th>\n",
       "      <th>mean_score_time</th>\n",
       "      <th>std_score_time</th>\n",
       "      <th>param_colsample_bytree</th>\n",
       "      <th>param_gamma</th>\n",
       "      <th>param_learning_rate</th>\n",
       "      <th>param_max_depth</th>\n",
       "      <th>param_n_estimators</th>\n",
       "      <th>param_objective</th>\n",
       "      <th>param_random_state</th>\n",
       "      <th>param_reg_alpha</th>\n",
       "      <th>param_scale_pos_weight</th>\n",
       "      <th>param_subsample</th>\n",
       "      <th>params</th>\n",
       "      <th>split0_test_score</th>\n",
       "      <th>split1_test_score</th>\n",
       "      <th>mean_test_score</th>\n",
       "      <th>std_test_score</th>\n",
       "      <th>rank_test_score</th>\n",
       "    </tr>\n",
       "  </thead>\n",
       "  <tbody>\n",
       "    <tr>\n",
       "      <th>962</th>\n",
       "      <td>2.534592</td>\n",
       "      <td>0.005263</td>\n",
       "      <td>0.029195</td>\n",
       "      <td>0.000994</td>\n",
       "      <td>1</td>\n",
       "      <td>3</td>\n",
       "      <td>0.05</td>\n",
       "      <td>3</td>\n",
       "      <td>300</td>\n",
       "      <td>reg:squarederror</td>\n",
       "      <td>0</td>\n",
       "      <td>3</td>\n",
       "      <td>1</td>\n",
       "      <td>0.9</td>\n",
       "      <td>{'colsample_bytree': 1, 'gamma': 3, 'learning_...</td>\n",
       "      <td>0.731593</td>\n",
       "      <td>0.836558</td>\n",
       "      <td>0.784076</td>\n",
       "      <td>0.052483</td>\n",
       "      <td>1</td>\n",
       "    </tr>\n",
       "    <tr>\n",
       "      <th>332</th>\n",
       "      <td>3.640440</td>\n",
       "      <td>0.010100</td>\n",
       "      <td>0.039315</td>\n",
       "      <td>0.001018</td>\n",
       "      <td>1</td>\n",
       "      <td>1</td>\n",
       "      <td>0.05</td>\n",
       "      <td>3</td>\n",
       "      <td>300</td>\n",
       "      <td>reg:squarederror</td>\n",
       "      <td>0</td>\n",
       "      <td>3</td>\n",
       "      <td>1</td>\n",
       "      <td>0.9</td>\n",
       "      <td>{'colsample_bytree': 1, 'gamma': 1, 'learning_...</td>\n",
       "      <td>0.731593</td>\n",
       "      <td>0.836558</td>\n",
       "      <td>0.784076</td>\n",
       "      <td>0.052483</td>\n",
       "      <td>1</td>\n",
       "    </tr>\n",
       "    <tr>\n",
       "      <th>17</th>\n",
       "      <td>3.450220</td>\n",
       "      <td>0.007097</td>\n",
       "      <td>0.039371</td>\n",
       "      <td>0.000941</td>\n",
       "      <td>1</td>\n",
       "      <td>0</td>\n",
       "      <td>0.05</td>\n",
       "      <td>3</td>\n",
       "      <td>300</td>\n",
       "      <td>reg:squarederror</td>\n",
       "      <td>0</td>\n",
       "      <td>3</td>\n",
       "      <td>1</td>\n",
       "      <td>0.9</td>\n",
       "      <td>{'colsample_bytree': 1, 'gamma': 0, 'learning_...</td>\n",
       "      <td>0.731593</td>\n",
       "      <td>0.836558</td>\n",
       "      <td>0.784076</td>\n",
       "      <td>0.052483</td>\n",
       "      <td>1</td>\n",
       "    </tr>\n",
       "    <tr>\n",
       "      <th>647</th>\n",
       "      <td>2.496365</td>\n",
       "      <td>0.011030</td>\n",
       "      <td>0.026183</td>\n",
       "      <td>0.004022</td>\n",
       "      <td>1</td>\n",
       "      <td>2</td>\n",
       "      <td>0.05</td>\n",
       "      <td>3</td>\n",
       "      <td>300</td>\n",
       "      <td>reg:squarederror</td>\n",
       "      <td>0</td>\n",
       "      <td>3</td>\n",
       "      <td>1</td>\n",
       "      <td>0.9</td>\n",
       "      <td>{'colsample_bytree': 1, 'gamma': 2, 'learning_...</td>\n",
       "      <td>0.731593</td>\n",
       "      <td>0.836558</td>\n",
       "      <td>0.784076</td>\n",
       "      <td>0.052483</td>\n",
       "      <td>1</td>\n",
       "    </tr>\n",
       "    <tr>\n",
       "      <th>333</th>\n",
       "      <td>3.129413</td>\n",
       "      <td>0.005287</td>\n",
       "      <td>0.040246</td>\n",
       "      <td>0.000156</td>\n",
       "      <td>1</td>\n",
       "      <td>1</td>\n",
       "      <td>0.05</td>\n",
       "      <td>3</td>\n",
       "      <td>300</td>\n",
       "      <td>reg:squarederror</td>\n",
       "      <td>0</td>\n",
       "      <td>5</td>\n",
       "      <td>1</td>\n",
       "      <td>0.9</td>\n",
       "      <td>{'colsample_bytree': 1, 'gamma': 1, 'learning_...</td>\n",
       "      <td>0.731593</td>\n",
       "      <td>0.836558</td>\n",
       "      <td>0.784076</td>\n",
       "      <td>0.052483</td>\n",
       "      <td>5</td>\n",
       "    </tr>\n",
       "  </tbody>\n",
       "</table>\n",
       "</div>"
      ],
      "text/plain": [
       "     mean_fit_time  std_fit_time  mean_score_time  std_score_time  \\\n",
       "962       2.534592      0.005263         0.029195        0.000994   \n",
       "332       3.640440      0.010100         0.039315        0.001018   \n",
       "17        3.450220      0.007097         0.039371        0.000941   \n",
       "647       2.496365      0.011030         0.026183        0.004022   \n",
       "333       3.129413      0.005287         0.040246        0.000156   \n",
       "\n",
       "    param_colsample_bytree param_gamma param_learning_rate param_max_depth  \\\n",
       "962                      1           3                0.05               3   \n",
       "332                      1           1                0.05               3   \n",
       "17                       1           0                0.05               3   \n",
       "647                      1           2                0.05               3   \n",
       "333                      1           1                0.05               3   \n",
       "\n",
       "    param_n_estimators   param_objective param_random_state param_reg_alpha  \\\n",
       "962                300  reg:squarederror                  0               3   \n",
       "332                300  reg:squarederror                  0               3   \n",
       "17                 300  reg:squarederror                  0               3   \n",
       "647                300  reg:squarederror                  0               3   \n",
       "333                300  reg:squarederror                  0               5   \n",
       "\n",
       "    param_scale_pos_weight param_subsample  \\\n",
       "962                      1             0.9   \n",
       "332                      1             0.9   \n",
       "17                       1             0.9   \n",
       "647                      1             0.9   \n",
       "333                      1             0.9   \n",
       "\n",
       "                                                params  split0_test_score  \\\n",
       "962  {'colsample_bytree': 1, 'gamma': 3, 'learning_...           0.731593   \n",
       "332  {'colsample_bytree': 1, 'gamma': 1, 'learning_...           0.731593   \n",
       "17   {'colsample_bytree': 1, 'gamma': 0, 'learning_...           0.731593   \n",
       "647  {'colsample_bytree': 1, 'gamma': 2, 'learning_...           0.731593   \n",
       "333  {'colsample_bytree': 1, 'gamma': 1, 'learning_...           0.731593   \n",
       "\n",
       "     split1_test_score  mean_test_score  std_test_score  rank_test_score  \n",
       "962           0.836558         0.784076        0.052483                1  \n",
       "332           0.836558         0.784076        0.052483                1  \n",
       "17            0.836558         0.784076        0.052483                1  \n",
       "647           0.836558         0.784076        0.052483                1  \n",
       "333           0.836558         0.784076        0.052483                5  "
      ]
     },
     "execution_count": 31,
     "metadata": {},
     "output_type": "execute_result"
    }
   ],
   "source": [
    "ans=df_XGBoost.sort_values(by=['rank_test_score'])\n",
    "ans.head(5)"
   ]
  },
  {
   "cell_type": "markdown",
   "metadata": {},
   "source": [
    "Using the ideal parameter values to build the final XGBOOTED model"
   ]
  },
  {
   "cell_type": "code",
   "execution_count": 32,
   "metadata": {},
   "outputs": [
    {
     "data": {
      "text/plain": [
       "{'colsample_bytree': 1,\n",
       " 'gamma': 0,\n",
       " 'learning_rate': 0.05,\n",
       " 'max_depth': 3,\n",
       " 'n_estimators': 300,\n",
       " 'objective': 'reg:squarederror',\n",
       " 'random_state': 0,\n",
       " 'reg_alpha': 3,\n",
       " 'scale_pos_weight': 1,\n",
       " 'subsample': 0.9}"
      ]
     },
     "execution_count": 32,
     "metadata": {},
     "output_type": "execute_result"
    }
   ],
   "source": [
    "best_parameter=grid_XGBoost.best_params_\n",
    "best_parameter"
   ]
  },
  {
   "cell_type": "markdown",
   "metadata": {},
   "source": [
    "."
   ]
  },
  {
   "cell_type": "markdown",
   "metadata": {},
   "source": [
    "."
   ]
  },
  {
   "cell_type": "markdown",
   "metadata": {},
   "source": [
    "# BUILDING THE OPTIMISED XGBOOSTED MODEL"
   ]
  },
  {
   "cell_type": "markdown",
   "metadata": {},
   "source": [
    "# Re-reading the entire dataset"
   ]
  },
  {
   "cell_type": "code",
   "execution_count": 33,
   "metadata": {},
   "outputs": [],
   "source": [
    "# Re-reading the entire dataset for the to train the optimised model\n",
    "os.chdir(\"c:/Users/User/Desktop/kaggle datasets/housing dataset/\")\n",
    "df=pd.read_csv('house_train_data.csv')"
   ]
  },
  {
   "cell_type": "code",
   "execution_count": 34,
   "metadata": {},
   "outputs": [],
   "source": [
    "# Transforming the two date columns into years \n",
    "df['YearRemodAdd']=2020-df['YearRemodAdd']\n",
    "df['YearBuilt']=2020-df['YearBuilt']"
   ]
  },
  {
   "cell_type": "markdown",
   "metadata": {},
   "source": [
    "# Selecting the top 18 features according to their importance"
   ]
  },
  {
   "cell_type": "code",
   "execution_count": 35,
   "metadata": {},
   "outputs": [
    {
     "name": "stdout",
     "output_type": "stream",
     "text": [
      "(1460, 18)\n"
     ]
    },
    {
     "data": {
      "text/html": [
       "<div>\n",
       "<style scoped>\n",
       "    .dataframe tbody tr th:only-of-type {\n",
       "        vertical-align: middle;\n",
       "    }\n",
       "\n",
       "    .dataframe tbody tr th {\n",
       "        vertical-align: top;\n",
       "    }\n",
       "\n",
       "    .dataframe thead th {\n",
       "        text-align: right;\n",
       "    }\n",
       "</style>\n",
       "<table border=\"1\" class=\"dataframe\">\n",
       "  <thead>\n",
       "    <tr style=\"text-align: right;\">\n",
       "      <th></th>\n",
       "      <th>OverallQual</th>\n",
       "      <th>GrLivArea</th>\n",
       "      <th>1stFlrSF</th>\n",
       "      <th>GarageCars</th>\n",
       "      <th>LotArea</th>\n",
       "      <th>MasVnrArea</th>\n",
       "      <th>YearBuilt</th>\n",
       "      <th>YearRemodAdd</th>\n",
       "      <th>LotFrontage</th>\n",
       "      <th>BsmtUnfSF</th>\n",
       "      <th>TotRmsAbvGrd</th>\n",
       "      <th>MoSold</th>\n",
       "      <th>Fireplaces</th>\n",
       "      <th>WoodDeckSF</th>\n",
       "      <th>OpenPorchSF</th>\n",
       "      <th>CentralAir</th>\n",
       "      <th>OverallCond</th>\n",
       "      <th>SalePrice</th>\n",
       "    </tr>\n",
       "  </thead>\n",
       "  <tbody>\n",
       "    <tr>\n",
       "      <th>0</th>\n",
       "      <td>7</td>\n",
       "      <td>1710</td>\n",
       "      <td>856</td>\n",
       "      <td>2</td>\n",
       "      <td>8450</td>\n",
       "      <td>196.0</td>\n",
       "      <td>17</td>\n",
       "      <td>17</td>\n",
       "      <td>65.0</td>\n",
       "      <td>150</td>\n",
       "      <td>8</td>\n",
       "      <td>2</td>\n",
       "      <td>0</td>\n",
       "      <td>0</td>\n",
       "      <td>61</td>\n",
       "      <td>Y</td>\n",
       "      <td>5</td>\n",
       "      <td>208500</td>\n",
       "    </tr>\n",
       "    <tr>\n",
       "      <th>1</th>\n",
       "      <td>6</td>\n",
       "      <td>1262</td>\n",
       "      <td>1262</td>\n",
       "      <td>2</td>\n",
       "      <td>9600</td>\n",
       "      <td>0.0</td>\n",
       "      <td>44</td>\n",
       "      <td>44</td>\n",
       "      <td>80.0</td>\n",
       "      <td>284</td>\n",
       "      <td>6</td>\n",
       "      <td>5</td>\n",
       "      <td>1</td>\n",
       "      <td>298</td>\n",
       "      <td>0</td>\n",
       "      <td>Y</td>\n",
       "      <td>8</td>\n",
       "      <td>181500</td>\n",
       "    </tr>\n",
       "  </tbody>\n",
       "</table>\n",
       "</div>"
      ],
      "text/plain": [
       "   OverallQual  GrLivArea  1stFlrSF  GarageCars  LotArea  MasVnrArea  \\\n",
       "0            7       1710       856           2     8450       196.0   \n",
       "1            6       1262      1262           2     9600         0.0   \n",
       "\n",
       "   YearBuilt  YearRemodAdd  LotFrontage  BsmtUnfSF  TotRmsAbvGrd  MoSold  \\\n",
       "0         17            17         65.0        150             8       2   \n",
       "1         44            44         80.0        284             6       5   \n",
       "\n",
       "   Fireplaces  WoodDeckSF  OpenPorchSF CentralAir  OverallCond  SalePrice  \n",
       "0           0           0           61          Y            5     208500  \n",
       "1           1         298            0          Y            8     181500  "
      ]
     },
     "execution_count": 35,
     "metadata": {},
     "output_type": "execute_result"
    }
   ],
   "source": [
    "df=df[['OverallQual','GrLivArea','1stFlrSF','GarageCars','LotArea','MasVnrArea','YearBuilt','YearRemodAdd','LotFrontage',\n",
    "       'BsmtUnfSF','TotRmsAbvGrd','MoSold','Fireplaces','WoodDeckSF','OpenPorchSF','CentralAir','OverallCond','SalePrice']]\n",
    "\n",
    "print(df.shape)\n",
    "df.head(2)"
   ]
  },
  {
   "cell_type": "markdown",
   "metadata": {},
   "source": [
    "# Handling Missing Data"
   ]
  },
  {
   "cell_type": "code",
   "execution_count": 36,
   "metadata": {},
   "outputs": [
    {
     "name": "stdout",
     "output_type": "stream",
     "text": [
      "OverallQual       0\n",
      "GrLivArea         0\n",
      "1stFlrSF          0\n",
      "GarageCars        0\n",
      "LotArea           0\n",
      "MasVnrArea        0\n",
      "YearBuilt         0\n",
      "YearRemodAdd      0\n",
      "LotFrontage     257\n",
      "BsmtUnfSF         0\n",
      "TotRmsAbvGrd      0\n",
      "MoSold            0\n",
      "Fireplaces        0\n",
      "WoodDeckSF        0\n",
      "OpenPorchSF       0\n",
      "CentralAir        0\n",
      "OverallCond       0\n",
      "SalePrice         0\n",
      "dtype: int64\n",
      "\n",
      " OverallQual       int64\n",
      "GrLivArea         int64\n",
      "1stFlrSF          int64\n",
      "GarageCars        int64\n",
      "LotArea           int64\n",
      "MasVnrArea      float64\n",
      "YearBuilt         int64\n",
      "YearRemodAdd      int64\n",
      "LotFrontage     float64\n",
      "BsmtUnfSF         int64\n",
      "TotRmsAbvGrd      int64\n",
      "MoSold            int64\n",
      "Fireplaces        int64\n",
      "WoodDeckSF        int64\n",
      "OpenPorchSF       int64\n",
      "CentralAir       object\n",
      "OverallCond       int64\n",
      "SalePrice         int64\n",
      "dtype: object\n"
     ]
    }
   ],
   "source": [
    "# Dropping the rows with missing values for MasVnrArea\n",
    "df=df.loc[df['MasVnrArea'].notnull(), : ]\n",
    "\n",
    "# converting LotFrontage to a numeric dtypes\n",
    "df['LotFrontage']=pd.to_numeric(df['LotFrontage'], errors='coerce')\n",
    "print(df.isnull().sum())\n",
    "\n",
    "print('\\n',df.dtypes)"
   ]
  },
  {
   "cell_type": "code",
   "execution_count": 37,
   "metadata": {},
   "outputs": [
    {
     "data": {
      "text/plain": [
       "OverallQual     0\n",
       "GrLivArea       0\n",
       "1stFlrSF        0\n",
       "GarageCars      0\n",
       "LotArea         0\n",
       "MasVnrArea      0\n",
       "YearBuilt       0\n",
       "YearRemodAdd    0\n",
       "LotFrontage     0\n",
       "BsmtUnfSF       0\n",
       "TotRmsAbvGrd    0\n",
       "MoSold          0\n",
       "Fireplaces      0\n",
       "WoodDeckSF      0\n",
       "OpenPorchSF     0\n",
       "CentralAir      0\n",
       "OverallCond     0\n",
       "SalePrice       0\n",
       "dtype: int64"
      ]
     },
     "execution_count": 37,
     "metadata": {},
     "output_type": "execute_result"
    }
   ],
   "source": [
    "df['LotFrontage']=df['LotFrontage'].replace('.','')\n",
    "df['LotFrontage'].fillna(df['LotFrontage'].mean(),inplace=True)\n",
    "df.isnull().sum()"
   ]
  },
  {
   "cell_type": "markdown",
   "metadata": {},
   "source": [
    "# Separating the target variable from the independent variable"
   ]
  },
  {
   "cell_type": "code",
   "execution_count": 38,
   "metadata": {},
   "outputs": [],
   "source": [
    "y=df['SalePrice']\n",
    "X=df.drop(labels=['SalePrice'], axis=1)"
   ]
  },
  {
   "cell_type": "markdown",
   "metadata": {},
   "source": [
    "# Splitting Dataset into train set and test set ( ratio 95 : 5 )"
   ]
  },
  {
   "cell_type": "code",
   "execution_count": 39,
   "metadata": {},
   "outputs": [],
   "source": [
    "from sklearn.model_selection import train_test_split\n",
    "X_train,X_test,y_train,y_test=train_test_split(X,y, random_state=15,test_size=5)"
   ]
  },
  {
   "cell_type": "markdown",
   "metadata": {},
   "source": [
    "# Transforming the Dataset "
   ]
  },
  {
   "cell_type": "code",
   "execution_count": 40,
   "metadata": {},
   "outputs": [],
   "source": [
    "columns_tran=['OverallQual', 'GrLivArea', '1stFlrSF', 'GarageCars', 'LotArea',\n",
    "                                               'MasVnrArea', 'YearBuilt', 'YearRemodAdd', 'LotFrontage', 'BsmtUnfSF',\n",
    "                                               'TotRmsAbvGrd', 'MoSold', 'Fireplaces', 'WoodDeckSF', 'OpenPorchSF','OverallCond','CentralAir']\n",
    "\n",
    "transformed_columns= make_column_transformer (\n",
    "                                               (MinMaxScaler(), \n",
    "                                               ['OverallQual', 'GrLivArea', '1stFlrSF', 'GarageCars', 'LotArea',\n",
    "                                               'MasVnrArea', 'YearBuilt', 'YearRemodAdd', 'LotFrontage', 'BsmtUnfSF',\n",
    "                                               'TotRmsAbvGrd', 'MoSold', 'Fireplaces', 'WoodDeckSF', 'OpenPorchSF','OverallCond'] ),\n",
    "                                                \n",
    "                                                (OneHotEncoder(handle_unknown='error',sparse=False, dtype='float32' , drop='first'),['CentralAir']),\n",
    "                                                remainder = 'passthrough'\n",
    "                                              )\n",
    "\n",
    "# transformer=transformed_columns.fit_transform(X_train)\n",
    "\n",
    "# X_train=pd.DataFrame(transformer,columns=columns_tran)\n",
    "# X_train.head()"
   ]
  },
  {
   "cell_type": "markdown",
   "metadata": {},
   "source": [
    "# THE OPTIMISED XGBOOSTED MODEL"
   ]
  },
  {
   "cell_type": "code",
   "execution_count": 41,
   "metadata": {},
   "outputs": [],
   "source": [
    "XGBRegressor=XGBRegressor (\n",
    "                             colsample_bytree= 1,\n",
    "                             gamma= 0,\n",
    "                             learning_rate= 0.05,\n",
    "                             max_depth= 3,\n",
    "                             n_estimators= 300,\n",
    "                             objective='reg:squarederror',\n",
    "                             random_state=0,\n",
    "                             reg_alpha= 3,\n",
    "                             scale_pos_weight= 1,\n",
    "                             subsample=0.9\n",
    "                          )"
   ]
  },
  {
   "cell_type": "markdown",
   "metadata": {},
   "source": [
    "# THE PIPELINE"
   ]
  },
  {
   "cell_type": "code",
   "execution_count": 42,
   "metadata": {},
   "outputs": [
    {
     "data": {
      "text/plain": [
       "Pipeline(steps=[('columntransformer',\n",
       "                 ColumnTransformer(remainder='passthrough',\n",
       "                                   transformers=[('minmaxscaler',\n",
       "                                                  MinMaxScaler(),\n",
       "                                                  ['OverallQual', 'GrLivArea',\n",
       "                                                   '1stFlrSF', 'GarageCars',\n",
       "                                                   'LotArea', 'MasVnrArea',\n",
       "                                                   'YearBuilt', 'YearRemodAdd',\n",
       "                                                   'LotFrontage', 'BsmtUnfSF',\n",
       "                                                   'TotRmsAbvGrd', 'MoSold',\n",
       "                                                   'Fireplaces', 'WoodDeckSF',\n",
       "                                                   'OpenPorchSF',\n",
       "                                                   'OverallCond']),\n",
       "                                                 ('onehotencoder',\n",
       "                                                  OneHotEncoder(drop='first',\n",
       "                                                                dtype='float32',\n",
       "                                                                sparse=False),\n",
       "                                                  ['CentralAir'])])),\n",
       "                ('xgbregressor',\n",
       "                 XGBRegressor(learning_rate=0.05, n_estimators=300,\n",
       "                              objective='reg:squarederror', reg_alpha=3,\n",
       "                              subsample=0.9))])"
      ]
     },
     "execution_count": 42,
     "metadata": {},
     "output_type": "execute_result"
    }
   ],
   "source": [
    "pipe=make_pipeline(transformed_columns, XGBRegressor)\n",
    "pipe.fit(X_train,y_train)"
   ]
  },
  {
   "cell_type": "markdown",
   "metadata": {},
   "source": [
    "# TEST ON THE OPTIMISED MODEL"
   ]
  },
  {
   "cell_type": "code",
   "execution_count": 43,
   "metadata": {},
   "outputs": [
    {
     "name": "stdout",
     "output_type": "stream",
     "text": [
      "R-squared score (training): 0.960\n",
      "R-squared score (test): 0.935\n",
      "\n",
      "Train RMSE \t: 15835.088790405514\n",
      "Test RMSE \t: 29983.220915659578\n"
     ]
    }
   ],
   "source": [
    "print('R-squared score (training): {:.3f}'.format(pipe.score(X_train, y_train)))\n",
    "print('R-squared score (test): {:.3f}\\n'.format(pipe.score(X_test, y_test)))\n",
    "\n",
    "y_predicted_train=pipe.predict(X_train)\n",
    "print('Train RMSE \\t:',np.sqrt(mean_squared_error( y_train, y_predicted_train)))\n",
    "\n",
    "y_test_predicted=pipe.predict(X_test)                           \n",
    "print('Test RMSE \\t:',np.sqrt(mean_squared_error( y_test, y_test_predicted)))"
   ]
  },
  {
   "cell_type": "markdown",
   "metadata": {},
   "source": [
    "# SAVING THE MODEL - pickling"
   ]
  },
  {
   "cell_type": "code",
   "execution_count": 44,
   "metadata": {},
   "outputs": [],
   "source": [
    "import pickle\n",
    "import os\n",
    "\n",
    "os.chdir('c://Users/user/.spyder-py3/templates/pickle/')\n",
    "\n",
    "file=open('model_housePricePrediction_xgboost2020.pkl','wb')\n",
    "pickle.dump(pipe,file)\n",
    "file.close()"
   ]
  },
  {
   "cell_type": "markdown",
   "metadata": {},
   "source": [
    "# The Test Dataset"
   ]
  },
  {
   "cell_type": "code",
   "execution_count": 45,
   "metadata": {},
   "outputs": [
    {
     "name": "stderr",
     "output_type": "stream",
     "text": [
      "C:\\Users\\User\\Anaconda3\\lib\\site-packages\\ipykernel_launcher.py:1: SettingWithCopyWarning: \n",
      "A value is trying to be set on a copy of a slice from a DataFrame.\n",
      "Try using .loc[row_indexer,col_indexer] = value instead\n",
      "\n",
      "See the caveats in the documentation: https://pandas.pydata.org/pandas-docs/stable/user_guide/indexing.html#returning-a-view-versus-a-copy\n",
      "  \"\"\"Entry point for launching an IPython kernel.\n"
     ]
    },
    {
     "data": {
      "text/html": [
       "<div>\n",
       "<style scoped>\n",
       "    .dataframe tbody tr th:only-of-type {\n",
       "        vertical-align: middle;\n",
       "    }\n",
       "\n",
       "    .dataframe tbody tr th {\n",
       "        vertical-align: top;\n",
       "    }\n",
       "\n",
       "    .dataframe thead th {\n",
       "        text-align: right;\n",
       "    }\n",
       "</style>\n",
       "<table border=\"1\" class=\"dataframe\">\n",
       "  <thead>\n",
       "    <tr style=\"text-align: right;\">\n",
       "      <th></th>\n",
       "      <th>OverallQual</th>\n",
       "      <th>GrLivArea</th>\n",
       "      <th>1stFlrSF</th>\n",
       "      <th>GarageCars</th>\n",
       "      <th>LotArea</th>\n",
       "      <th>MasVnrArea</th>\n",
       "      <th>YearBuilt</th>\n",
       "      <th>YearRemodAdd</th>\n",
       "      <th>LotFrontage</th>\n",
       "      <th>BsmtUnfSF</th>\n",
       "      <th>TotRmsAbvGrd</th>\n",
       "      <th>MoSold</th>\n",
       "      <th>Fireplaces</th>\n",
       "      <th>WoodDeckSF</th>\n",
       "      <th>OpenPorchSF</th>\n",
       "      <th>CentralAir</th>\n",
       "      <th>OverallCond</th>\n",
       "      <th>House_Price</th>\n",
       "    </tr>\n",
       "  </thead>\n",
       "  <tbody>\n",
       "    <tr>\n",
       "      <th>1086</th>\n",
       "      <td>4</td>\n",
       "      <td>1092</td>\n",
       "      <td>546</td>\n",
       "      <td>1</td>\n",
       "      <td>1974</td>\n",
       "      <td>0.0</td>\n",
       "      <td>47</td>\n",
       "      <td>47</td>\n",
       "      <td>70.030126</td>\n",
       "      <td>212</td>\n",
       "      <td>6</td>\n",
       "      <td>5</td>\n",
       "      <td>0</td>\n",
       "      <td>120</td>\n",
       "      <td>96</td>\n",
       "      <td>Y</td>\n",
       "      <td>5</td>\n",
       "      <td>83500</td>\n",
       "    </tr>\n",
       "    <tr>\n",
       "      <th>1136</th>\n",
       "      <td>6</td>\n",
       "      <td>1252</td>\n",
       "      <td>1032</td>\n",
       "      <td>1</td>\n",
       "      <td>9600</td>\n",
       "      <td>0.0</td>\n",
       "      <td>70</td>\n",
       "      <td>70</td>\n",
       "      <td>80.000000</td>\n",
       "      <td>752</td>\n",
       "      <td>6</td>\n",
       "      <td>4</td>\n",
       "      <td>0</td>\n",
       "      <td>0</td>\n",
       "      <td>0</td>\n",
       "      <td>Y</td>\n",
       "      <td>5</td>\n",
       "      <td>119000</td>\n",
       "    </tr>\n",
       "    <tr>\n",
       "      <th>336</th>\n",
       "      <td>9</td>\n",
       "      <td>1922</td>\n",
       "      <td>1922</td>\n",
       "      <td>3</td>\n",
       "      <td>14157</td>\n",
       "      <td>200.0</td>\n",
       "      <td>15</td>\n",
       "      <td>14</td>\n",
       "      <td>86.000000</td>\n",
       "      <td>673</td>\n",
       "      <td>8</td>\n",
       "      <td>7</td>\n",
       "      <td>1</td>\n",
       "      <td>178</td>\n",
       "      <td>51</td>\n",
       "      <td>Y</td>\n",
       "      <td>5</td>\n",
       "      <td>377426</td>\n",
       "    </tr>\n",
       "    <tr>\n",
       "      <th>211</th>\n",
       "      <td>6</td>\n",
       "      <td>1212</td>\n",
       "      <td>1212</td>\n",
       "      <td>2</td>\n",
       "      <td>10420</td>\n",
       "      <td>0.0</td>\n",
       "      <td>11</td>\n",
       "      <td>11</td>\n",
       "      <td>83.000000</td>\n",
       "      <td>1176</td>\n",
       "      <td>6</td>\n",
       "      <td>3</td>\n",
       "      <td>0</td>\n",
       "      <td>100</td>\n",
       "      <td>22</td>\n",
       "      <td>Y</td>\n",
       "      <td>5</td>\n",
       "      <td>186000</td>\n",
       "    </tr>\n",
       "    <tr>\n",
       "      <th>377</th>\n",
       "      <td>8</td>\n",
       "      <td>2466</td>\n",
       "      <td>1580</td>\n",
       "      <td>2</td>\n",
       "      <td>11143</td>\n",
       "      <td>0.0</td>\n",
       "      <td>16</td>\n",
       "      <td>15</td>\n",
       "      <td>102.000000</td>\n",
       "      <td>1580</td>\n",
       "      <td>8</td>\n",
       "      <td>12</td>\n",
       "      <td>1</td>\n",
       "      <td>159</td>\n",
       "      <td>214</td>\n",
       "      <td>Y</td>\n",
       "      <td>5</td>\n",
       "      <td>340000</td>\n",
       "    </tr>\n",
       "  </tbody>\n",
       "</table>\n",
       "</div>"
      ],
      "text/plain": [
       "      OverallQual  GrLivArea  1stFlrSF  GarageCars  LotArea  MasVnrArea  \\\n",
       "1086            4       1092       546           1     1974         0.0   \n",
       "1136            6       1252      1032           1     9600         0.0   \n",
       "336             9       1922      1922           3    14157       200.0   \n",
       "211             6       1212      1212           2    10420         0.0   \n",
       "377             8       2466      1580           2    11143         0.0   \n",
       "\n",
       "      YearBuilt  YearRemodAdd  LotFrontage  BsmtUnfSF  TotRmsAbvGrd  MoSold  \\\n",
       "1086         47            47    70.030126        212             6       5   \n",
       "1136         70            70    80.000000        752             6       4   \n",
       "336          15            14    86.000000        673             8       7   \n",
       "211          11            11    83.000000       1176             6       3   \n",
       "377          16            15   102.000000       1580             8      12   \n",
       "\n",
       "      Fireplaces  WoodDeckSF  OpenPorchSF CentralAir  OverallCond  House_Price  \n",
       "1086           0         120           96          Y            5        83500  \n",
       "1136           0           0            0          Y            5       119000  \n",
       "336            1         178           51          Y            5       377426  \n",
       "211            0         100           22          Y            5       186000  \n",
       "377            1         159          214          Y            5       340000  "
      ]
     },
     "execution_count": 45,
     "metadata": {},
     "output_type": "execute_result"
    }
   ],
   "source": [
    "X_test['House_Price']=y_test\n",
    "df=X_test\n",
    "df"
   ]
  },
  {
   "cell_type": "code",
   "execution_count": null,
   "metadata": {},
   "outputs": [],
   "source": []
  }
 ],
 "metadata": {
  "kernelspec": {
   "display_name": "Python 3",
   "language": "python",
   "name": "python3"
  },
  "language_info": {
   "codemirror_mode": {
    "name": "ipython",
    "version": 3
   },
   "file_extension": ".py",
   "mimetype": "text/x-python",
   "name": "python",
   "nbconvert_exporter": "python",
   "pygments_lexer": "ipython3",
   "version": "3.7.6"
  }
 },
 "nbformat": 4,
 "nbformat_minor": 2
}
